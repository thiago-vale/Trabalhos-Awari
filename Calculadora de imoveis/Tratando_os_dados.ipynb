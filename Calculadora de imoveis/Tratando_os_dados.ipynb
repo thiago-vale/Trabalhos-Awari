{
 "cells": [
  {
   "cell_type": "code",
   "execution_count": 1,
   "metadata": {},
   "outputs": [],
   "source": [
    "import pandas as pd\n",
    "import numpy as np"
   ]
  },
  {
   "cell_type": "code",
   "execution_count": 2,
   "metadata": {},
   "outputs": [],
   "source": [
    "df = pd.read_csv('todos_os_resultados.csv')"
   ]
  },
  {
   "cell_type": "code",
   "execution_count": 3,
   "metadata": {},
   "outputs": [
    {
     "data": {
      "text/plain": [
       "11"
      ]
     },
     "execution_count": 3,
     "metadata": {},
     "output_type": "execute_result"
    }
   ],
   "source": [
    "sum(df.duplicated())"
   ]
  },
  {
   "cell_type": "code",
   "execution_count": 4,
   "metadata": {},
   "outputs": [],
   "source": [
    "df = df.drop_duplicates(keep=\"first\", subset=[coluna for coluna in df.columns if coluna!=\"crawled_at\"]).reset_index(drop=True)"
   ]
  },
  {
   "cell_type": "code",
   "execution_count": 5,
   "metadata": {},
   "outputs": [
    {
     "data": {
      "text/plain": [
       "(3589, 13)"
      ]
     },
     "execution_count": 5,
     "metadata": {},
     "output_type": "execute_result"
    }
   ],
   "source": [
    "df.shape"
   ]
  },
  {
   "cell_type": "code",
   "execution_count": 6,
   "metadata": {},
   "outputs": [],
   "source": [
    "filtro_de_anuncios = [str(_id).isnumeric() for _id in df[\"id\"]]"
   ]
  },
  {
   "cell_type": "code",
   "execution_count": 7,
   "metadata": {},
   "outputs": [],
   "source": [
    "df = df[filtro_de_anuncios].reset_index(drop=True)"
   ]
  },
  {
   "cell_type": "code",
   "execution_count": 8,
   "metadata": {},
   "outputs": [
    {
     "data": {
      "text/plain": [
       "(3589, 13)"
      ]
     },
     "execution_count": 8,
     "metadata": {},
     "output_type": "execute_result"
    }
   ],
   "source": [
    "df.shape"
   ]
  },
  {
   "cell_type": "code",
   "execution_count": 9,
   "metadata": {},
   "outputs": [
    {
     "data": {
      "text/plain": [
       "{'-- Quarto',\n",
       " '1 Quarto',\n",
       " '10 Quartos',\n",
       " '2 Quartos',\n",
       " '3 Quartos',\n",
       " '31 Quartos',\n",
       " '4 Quartos',\n",
       " '5 Quartos',\n",
       " '6 Quartos',\n",
       " '8 Quartos',\n",
       " '9 Quartos'}"
      ]
     },
     "execution_count": 9,
     "metadata": {},
     "output_type": "execute_result"
    }
   ],
   "source": [
    "set(df[\"rooms\"])"
   ]
  },
  {
   "cell_type": "code",
   "execution_count": 10,
   "metadata": {},
   "outputs": [
    {
     "data": {
      "text/plain": [
       "{'0', '1', '10', '2', '3', '31', '4', '5', '6', '8', '9'}"
      ]
     },
     "execution_count": 10,
     "metadata": {},
     "output_type": "execute_result"
    }
   ],
   "source": [
    "set(df[\"rooms\"].str.split(\" \").str[0].str.replace(\"--\" , \"0\"))"
   ]
  },
  {
   "cell_type": "code",
   "execution_count": 11,
   "metadata": {},
   "outputs": [],
   "source": [
    "df[\"Quarto\"] = (df[\"rooms\"]\n",
    "                     .str.split(\" \")\n",
    "                     .str[0]\n",
    "                     .str.replace(\"--\",\"0\")\n",
    "                     .astype(int))"
   ]
  },
  {
   "cell_type": "code",
   "execution_count": 12,
   "metadata": {},
   "outputs": [],
   "source": [
    "df[\"Banheiro\"] = (df[\"bathrooms\"]\n",
    "                         .str.split(\" \")\n",
    "                         .str[0]\n",
    "                         .str.replace(\"--\",\"0\")\n",
    "                         .astype(int))"
   ]
  },
  {
   "cell_type": "code",
   "execution_count": 13,
   "metadata": {},
   "outputs": [],
   "source": [
    "df[\"Garagem\"] = (df[\"garages\"]\n",
    "                       .str.split(\" \")\n",
    "                       .str[0]\n",
    "                       .str.replace(\"--\",\"0\")\n",
    "                       .astype(int))"
   ]
  },
  {
   "cell_type": "code",
   "execution_count": 14,
   "metadata": {},
   "outputs": [],
   "source": [
    "df[\"condo\"] = df[\"condo\"].fillna(\"MISSING\")"
   ]
  },
  {
   "cell_type": "code",
   "execution_count": 15,
   "metadata": {},
   "outputs": [],
   "source": [
    "df[\"condominio\"] = [int(w.split(\"R$ \")[1].replace(\".\",\"\")) if w!=\"MISSING\" else np.nan for w in df[\"condo\"]]"
   ]
  },
  {
   "cell_type": "code",
   "execution_count": 16,
   "metadata": {},
   "outputs": [],
   "source": [
    "#df[\"price_limpo\"] = [int(w.split(\"R$ \")[1].split(\" /mês\")[0].split(\" /dia\")[0].replace(\".\",\"\")) for w in df[\"price\"]]\n",
    "df[\"preço\"] = [int(w.split(\"R$ \")[1].split(\" /\")[0].replace(\".\",\"\")) for w in df[\"price\"]]"
   ]
  },
  {
   "cell_type": "code",
   "execution_count": 17,
   "metadata": {},
   "outputs": [],
   "source": [
    "df[\"area_limpo\"] = df[\"area\"].astype(int)"
   ]
  },
  {
   "cell_type": "code",
   "execution_count": 18,
   "metadata": {},
   "outputs": [],
   "source": [
    "df[\"crawled_at\"] = pd.to_datetime(df[\"crawled_at\"], format=\"%Y-%m-%d %H:%M\")"
   ]
  },
  {
   "cell_type": "code",
   "execution_count": 19,
   "metadata": {},
   "outputs": [],
   "source": [
    "df = df.drop(columns = [\"area\", \"rooms\", \"bathrooms\", \"garages\", \"price\", \"condo\"])"
   ]
  },
  {
   "cell_type": "code",
   "execution_count": 20,
   "metadata": {},
   "outputs": [],
   "source": [
    "df[\"bairro\"] = (df[\"address\"]\n",
    "                      .str.split(\"- \")\n",
    "                      .str[1]\n",
    "                      .str.split(\",\")\n",
    "                      .str[0])"
   ]
  },
  {
   "cell_type": "code",
   "execution_count": 21,
   "metadata": {},
   "outputs": [],
   "source": [
    "df.loc[df[\"bairro\"].isin([\"RJ\"]), \"bairro\"] = (df\n",
    "                                                     .loc[df[\"bairro\"].isin([\"RJ\"]), \"address\"]\n",
    "                                                     .str.split(\",\").str[0])"
   ]
  },
  {
   "cell_type": "code",
   "execution_count": 22,
   "metadata": {},
   "outputs": [
    {
     "data": {
      "text/plain": [
       "array(['Barra da Tijuca'], dtype=object)"
      ]
     },
     "execution_count": 22,
     "metadata": {},
     "output_type": "execute_result"
    }
   ],
   "source": [
    "df.loc[df[\"crawler\"]!=df[\"bairro\"],\"bairro\"].unique()"
   ]
  },
  {
   "cell_type": "code",
   "execution_count": 23,
   "metadata": {},
   "outputs": [],
   "source": [
    "df[\"crawler\"] = (df[\"crawler\"]\n",
    "                 .str.lower()\n",
    "                 .str.replace(\" \",\"_\"))"
   ]
  },
  {
   "cell_type": "code",
   "execution_count": 24,
   "metadata": {},
   "outputs": [],
   "source": [
    "df[\"bairro\"] = (df[\"bairro\"]\n",
    "                      .str.lower()\n",
    "                      .str.replace(\" \",\"_\")\n",
    "                      .str.normalize(\"NFKD\")\n",
    "                      .str.encode(\"ascii\", errors=\"ignore\")\n",
    "                      .str.decode(\"utf-8\"))"
   ]
  },
  {
   "cell_type": "code",
   "execution_count": 25,
   "metadata": {},
   "outputs": [
    {
     "data": {
      "text/html": [
       "<div>\n",
       "<style scoped>\n",
       "    .dataframe tbody tr th:only-of-type {\n",
       "        vertical-align: middle;\n",
       "    }\n",
       "\n",
       "    .dataframe tbody tr th {\n",
       "        vertical-align: top;\n",
       "    }\n",
       "\n",
       "    .dataframe thead th {\n",
       "        text-align: right;\n",
       "    }\n",
       "</style>\n",
       "<table border=\"1\" class=\"dataframe\">\n",
       "  <thead>\n",
       "    <tr style=\"text-align: right;\">\n",
       "      <th></th>\n",
       "      <th>crawler</th>\n",
       "      <th>bairro</th>\n",
       "    </tr>\n",
       "  </thead>\n",
       "  <tbody>\n",
       "    <tr>\n",
       "      <th>2869</th>\n",
       "      <td>barra</td>\n",
       "      <td>barra_da_tijuca</td>\n",
       "    </tr>\n",
       "    <tr>\n",
       "      <th>2870</th>\n",
       "      <td>barra</td>\n",
       "      <td>barra_da_tijuca</td>\n",
       "    </tr>\n",
       "    <tr>\n",
       "      <th>2871</th>\n",
       "      <td>barra</td>\n",
       "      <td>barra_da_tijuca</td>\n",
       "    </tr>\n",
       "    <tr>\n",
       "      <th>2872</th>\n",
       "      <td>barra</td>\n",
       "      <td>barra_da_tijuca</td>\n",
       "    </tr>\n",
       "    <tr>\n",
       "      <th>2873</th>\n",
       "      <td>barra</td>\n",
       "      <td>barra_da_tijuca</td>\n",
       "    </tr>\n",
       "    <tr>\n",
       "      <th>...</th>\n",
       "      <td>...</td>\n",
       "      <td>...</td>\n",
       "    </tr>\n",
       "    <tr>\n",
       "      <th>3584</th>\n",
       "      <td>barra</td>\n",
       "      <td>barra_da_tijuca</td>\n",
       "    </tr>\n",
       "    <tr>\n",
       "      <th>3585</th>\n",
       "      <td>barra</td>\n",
       "      <td>barra_da_tijuca</td>\n",
       "    </tr>\n",
       "    <tr>\n",
       "      <th>3586</th>\n",
       "      <td>barra</td>\n",
       "      <td>barra_da_tijuca</td>\n",
       "    </tr>\n",
       "    <tr>\n",
       "      <th>3587</th>\n",
       "      <td>barra</td>\n",
       "      <td>barra_da_tijuca</td>\n",
       "    </tr>\n",
       "    <tr>\n",
       "      <th>3588</th>\n",
       "      <td>barra</td>\n",
       "      <td>barra_da_tijuca</td>\n",
       "    </tr>\n",
       "  </tbody>\n",
       "</table>\n",
       "<p>720 rows × 2 columns</p>\n",
       "</div>"
      ],
      "text/plain": [
       "     crawler           bairro\n",
       "2869   barra  barra_da_tijuca\n",
       "2870   barra  barra_da_tijuca\n",
       "2871   barra  barra_da_tijuca\n",
       "2872   barra  barra_da_tijuca\n",
       "2873   barra  barra_da_tijuca\n",
       "...      ...              ...\n",
       "3584   barra  barra_da_tijuca\n",
       "3585   barra  barra_da_tijuca\n",
       "3586   barra  barra_da_tijuca\n",
       "3587   barra  barra_da_tijuca\n",
       "3588   barra  barra_da_tijuca\n",
       "\n",
       "[720 rows x 2 columns]"
      ]
     },
     "execution_count": 25,
     "metadata": {},
     "output_type": "execute_result"
    }
   ],
   "source": [
    "df.loc[df[\"crawler\"]!=df[\"bairro\"], [\"crawler\",\"bairro\"]]"
   ]
  },
  {
   "cell_type": "code",
   "execution_count": 26,
   "metadata": {},
   "outputs": [],
   "source": [
    "df = df.drop(columns=\"bairro\")"
   ]
  },
  {
   "cell_type": "code",
   "execution_count": 27,
   "metadata": {},
   "outputs": [
    {
     "data": {
      "text/plain": [
       "0       Elevador\\nAceita animais\\nSalão de festas\\nPor...\n",
       "1                                      Condomínio fechado\n",
       "2                      Condomínio fechado\\nAceita animais\n",
       "3       Ar-condicionado\\nElevador\\nBicicletário\\nPortã...\n",
       "4       Elevador\\nAceita animais\\nAcesso para deficientes\n",
       "                              ...                        \n",
       "3584                                                  NaN\n",
       "3585    Mobiliado\\nPiscina\\nAr-condicionado\\nCondomíni...\n",
       "3586    Piscina\\nChurrasqueira\\nElevador\\nÁrea de serv...\n",
       "3587    Piscina\\nChurrasqueira\\nElevador\\nAcademia\\nCo...\n",
       "3588                                                  NaN\n",
       "Name: amenities, Length: 3589, dtype: object"
      ]
     },
     "execution_count": 27,
     "metadata": {},
     "output_type": "execute_result"
    }
   ],
   "source": [
    "df[\"amenities\"]"
   ]
  },
  {
   "cell_type": "code",
   "execution_count": 28,
   "metadata": {},
   "outputs": [],
   "source": [
    "df[\"amenities\"] = df[\"amenities\"].str.split(\"\\n\")"
   ]
  },
  {
   "cell_type": "code",
   "execution_count": 29,
   "metadata": {},
   "outputs": [],
   "source": [
    "df[\"amenities\"] = df[\"amenities\"].fillna(\"\")"
   ]
  },
  {
   "cell_type": "code",
   "execution_count": 30,
   "metadata": {},
   "outputs": [],
   "source": [
    "amenities = []\n",
    "for am in df[\"amenities\"]:\n",
    "    if am != \"\":\n",
    "        amenities = amenities + am"
   ]
  },
  {
   "cell_type": "code",
   "execution_count": 31,
   "metadata": {},
   "outputs": [],
   "source": [
    "unico_amenities = list(set(amenities))"
   ]
  },
  {
   "cell_type": "code",
   "execution_count": 32,
   "metadata": {},
   "outputs": [],
   "source": [
    "df[\"amenities\"] = df[\"amenities\"].str.join(\", \")"
   ]
  },
  {
   "cell_type": "code",
   "execution_count": 33,
   "metadata": {},
   "outputs": [
    {
     "name": "stdout",
     "output_type": "stream",
     "text": [
      "Piscina para adulto\n",
      "Cabeamento estruturado\n",
      "Interfone\n",
      "Churrasqueira na varanda\n",
      "Segurança 24h\n",
      "Sala de jantar\n",
      "Aquecimento\n",
      "Closet\n",
      "Conexão à internet\n",
      "Vista para a montanha\n",
      "Vista exterior\n",
      "Mais de um andar\n",
      "Estacionamento\n",
      "Depósito\n",
      "Lavabo\n",
      "Academia\n",
      "Bicicletário\n",
      "Estacionamento para visitantes\n",
      "Salão de jogos\n",
      "Piso de madeira\n",
      "Perto de vias de acesso\n",
      "Próximo a escola\n",
      "Sala grande\n",
      "Espaço teen\n",
      "Condomínio fechado\n",
      "Piscina\n",
      "Espaço verde / Parque\n",
      "Copa\n",
      "Espaço gourmet\n",
      "Andar inteiro\n",
      "Armário na cozinha\n",
      "Quadra de tênis\n",
      "Próximo a hospitais\n",
      "Ar-condicionado\n",
      "Próximo a shopping\n",
      "Cozinha\n",
      "Drywall\n",
      "Área de lazer\n",
      "Gesso - Sanca - Teto Rebaixado\n",
      "Sala de massagem\n",
      "Móvel planejado\n",
      "Portaria 24h\n",
      "Escritório\n",
      "Muro e grade\n",
      "Quintal\n",
      "Fogão\n",
      "Câmera de segurança\n",
      "Ambientes integrados\n",
      "Janela grande\n",
      "Quadra poliesportiva\n",
      "Gás Encanado\n",
      "Área de serviço\n",
      "Box blindex\n",
      "Varanda\n",
      "Garagem\n",
      "Acesso para deficientes\n",
      "TV a cabo\n",
      "Sauna\n",
      "Sistema de alarme\n",
      "Recepção\n",
      "Circuito de segurança\n",
      "Portão eletrônico\n",
      "Playground\n",
      "Vigia\n",
      "Salão de festas\n",
      "Armário embutido\n",
      "Próximo a transporte público\n",
      "Janela de alumínio\n",
      "Spa\n",
      "Isolamento térmico\n",
      "Cozinha americana\n",
      "Churrasqueira\n",
      "Mobiliado\n",
      "Cozinha grande\n",
      "Lavanderia\n",
      "Muro de vidro\n",
      "Vista para o mar\n",
      "Elevador\n",
      "Varanda gourmet\n",
      "Gerador elétrico\n",
      "Aceita animais\n",
      "Despensa\n",
      "Jardim\n"
     ]
    }
   ],
   "source": [
    "for amenity in unico_amenities:\n",
    "    print(amenity)\n",
    "    df[amenity]=0\n",
    "    df.loc[df[\"amenities\"].str.contains(amenity), amenity] = 1"
   ]
  },
  {
   "cell_type": "code",
   "execution_count": 39,
   "metadata": {},
   "outputs": [],
   "source": [
    "df.to_csv(\"aptos_csv.csv\", index=False)"
   ]
  },
  {
   "cell_type": "code",
   "execution_count": 41,
   "metadata": {},
   "outputs": [
    {
     "data": {
      "text/plain": [
       "(3600, 13)"
      ]
     },
     "execution_count": 41,
     "metadata": {},
     "output_type": "execute_result"
    }
   ],
   "source": [
    "pd.read_csv('todos_os_resultados.csv').shape"
   ]
  },
  {
   "cell_type": "code",
   "execution_count": 40,
   "metadata": {},
   "outputs": [
    {
     "data": {
      "text/plain": [
       "(3589, 95)"
      ]
     },
     "execution_count": 40,
     "metadata": {},
     "output_type": "execute_result"
    }
   ],
   "source": [
    "pd.read_csv(\"aptos_csv.csv\").shape"
   ]
  }
 ],
 "metadata": {
  "kernelspec": {
   "display_name": "Python 3",
   "language": "python",
   "name": "python3"
  },
  "language_info": {
   "codemirror_mode": {
    "name": "ipython",
    "version": 3
   },
   "file_extension": ".py",
   "mimetype": "text/x-python",
   "name": "python",
   "nbconvert_exporter": "python",
   "pygments_lexer": "ipython3",
   "version": "3.8.5"
  }
 },
 "nbformat": 4,
 "nbformat_minor": 4
}
