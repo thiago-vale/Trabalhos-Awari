{
 "cells": [
  {
   "cell_type": "code",
   "execution_count": 1,
   "metadata": {},
   "outputs": [],
   "source": [
    "import pandas as pd\n",
    "import matplotlib.pyplot as plt\n",
    "import numpy as np\n",
    "import seaborn as sns\n",
    "import joblib\n",
    "from sklearn.linear_model import LinearRegression\n",
    "from sklearn.model_selection import train_test_split\n",
    "from sklearn.metrics import r2_score\n",
    "from sklearn.neighbors import KNeighborsRegressor\n",
    "from sklearn.preprocessing import StandardScaler, MinMaxScaler\n",
    "from sklearn.tree import DecisionTreeRegressor\n",
    "from catboost import CatBoostRegressor"
   ]
  },
  {
   "cell_type": "code",
   "execution_count": 2,
   "metadata": {},
   "outputs": [],
   "source": [
    "df = pd.read_csv('C:/Users/Thiago/Desktop/Potifolio/Projeto calculadora de imoveis/Data Sets/Model_input.csv')"
   ]
  },
  {
   "cell_type": "code",
   "execution_count": 3,
   "metadata": {},
   "outputs": [],
   "source": [
    "X = df[[\"area_limpo\", \"Banheiro\", \"Quarto\", \"condominio\", \"Garagem\"]]\n",
    "y = df[\"preço\"]"
   ]
  },
  {
   "cell_type": "code",
   "execution_count": 4,
   "metadata": {},
   "outputs": [],
   "source": [
    "X_train, X_test, y_train, y_test = train_test_split(X, y, test_size=.20, random_state=12345, shuffle=True)"
   ]
  },
  {
   "cell_type": "code",
   "execution_count": 5,
   "metadata": {},
   "outputs": [
    {
     "data": {
      "text/plain": [
       "(6592, 5)"
      ]
     },
     "execution_count": 5,
     "metadata": {},
     "output_type": "execute_result"
    }
   ],
   "source": [
    "X.shape"
   ]
  },
  {
   "cell_type": "code",
   "execution_count": 6,
   "metadata": {},
   "outputs": [
    {
     "data": {
      "text/plain": [
       "(5273, 5)"
      ]
     },
     "execution_count": 6,
     "metadata": {},
     "output_type": "execute_result"
    }
   ],
   "source": [
    "X_train.shape"
   ]
  },
  {
   "cell_type": "code",
   "execution_count": 7,
   "metadata": {},
   "outputs": [
    {
     "data": {
      "text/plain": [
       "(1319, 5)"
      ]
     },
     "execution_count": 7,
     "metadata": {},
     "output_type": "execute_result"
    }
   ],
   "source": [
    "X_test.shape"
   ]
  },
  {
   "cell_type": "code",
   "execution_count": 8,
   "metadata": {},
   "outputs": [
    {
     "data": {
      "text/plain": [
       "1439     6799.0\n",
       "3615     2600.0\n",
       "6404     9500.0\n",
       "4635     8900.0\n",
       "4341     4500.0\n",
       "         ...   \n",
       "3497     2670.0\n",
       "3492     1600.0\n",
       "2177     4000.0\n",
       "3557     1500.0\n",
       "4578    14500.0\n",
       "Name: preço, Length: 5273, dtype: float64"
      ]
     },
     "execution_count": 8,
     "metadata": {},
     "output_type": "execute_result"
    }
   ],
   "source": [
    "y_train"
   ]
  },
  {
   "cell_type": "code",
   "execution_count": 9,
   "metadata": {},
   "outputs": [],
   "source": [
    "model = LinearRegression(fit_intercept=False)"
   ]
  },
  {
   "cell_type": "code",
   "execution_count": 10,
   "metadata": {},
   "outputs": [
    {
     "data": {
      "text/plain": [
       "LinearRegression(copy_X=True, fit_intercept=False, n_jobs=None, normalize=False)"
      ]
     },
     "execution_count": 10,
     "metadata": {},
     "output_type": "execute_result"
    }
   ],
   "source": [
    "model.fit(X_train, y_train)"
   ]
  },
  {
   "cell_type": "code",
   "execution_count": 11,
   "metadata": {},
   "outputs": [],
   "source": [
    "y_pred_train = model.predict(X_train)\n",
    "y_pred_test = model.predict(X_test)"
   ]
  },
  {
   "cell_type": "code",
   "execution_count": 12,
   "metadata": {},
   "outputs": [
    {
     "data": {
      "text/plain": [
       "0.44974581038325884"
      ]
     },
     "execution_count": 12,
     "metadata": {},
     "output_type": "execute_result"
    }
   ],
   "source": [
    "np.mean(np.abs(y_train - y_pred_train)/y_train)"
   ]
  },
  {
   "cell_type": "code",
   "execution_count": 13,
   "metadata": {},
   "outputs": [
    {
     "data": {
      "text/plain": [
       "0.41080964188347274"
      ]
     },
     "execution_count": 13,
     "metadata": {},
     "output_type": "execute_result"
    }
   ],
   "source": [
    "np.mean(np.abs(y_test - y_pred_test)/y_test)"
   ]
  },
  {
   "cell_type": "code",
   "execution_count": 14,
   "metadata": {},
   "outputs": [
    {
     "data": {
      "text/plain": [
       "0.7200846687580622"
      ]
     },
     "execution_count": 14,
     "metadata": {},
     "output_type": "execute_result"
    }
   ],
   "source": [
    "r2_score(y_test, y_pred_test)"
   ]
  },
  {
   "cell_type": "markdown",
   "metadata": {},
   "source": [
    "# KNN"
   ]
  },
  {
   "cell_type": "code",
   "execution_count": 15,
   "metadata": {},
   "outputs": [],
   "source": [
    "knn = KNeighborsRegressor(n_neighbors=5)"
   ]
  },
  {
   "cell_type": "code",
   "execution_count": 16,
   "metadata": {},
   "outputs": [
    {
     "data": {
      "text/plain": [
       "KNeighborsRegressor(algorithm='auto', leaf_size=30, metric='minkowski',\n",
       "                    metric_params=None, n_jobs=None, n_neighbors=5, p=2,\n",
       "                    weights='uniform')"
      ]
     },
     "execution_count": 16,
     "metadata": {},
     "output_type": "execute_result"
    }
   ],
   "source": [
    "knn.fit(X_train, y_train)"
   ]
  },
  {
   "cell_type": "code",
   "execution_count": 17,
   "metadata": {},
   "outputs": [],
   "source": [
    "y_pred = knn.predict(X_test)"
   ]
  },
  {
   "cell_type": "code",
   "execution_count": 18,
   "metadata": {},
   "outputs": [],
   "source": [
    "def mape(y_test, y_pred):\n",
    "    return np.mean(np.abs((y_test-y_pred)/y_test))"
   ]
  },
  {
   "cell_type": "code",
   "execution_count": 19,
   "metadata": {},
   "outputs": [
    {
     "data": {
      "text/plain": [
       "0.38855783839940833"
      ]
     },
     "execution_count": 19,
     "metadata": {},
     "output_type": "execute_result"
    }
   ],
   "source": [
    "mape(y_test,y_pred)"
   ]
  },
  {
   "cell_type": "code",
   "execution_count": 20,
   "metadata": {},
   "outputs": [
    {
     "name": "stdout",
     "output_type": "stream",
     "text": [
      "k=1, mape=0.4330189788358114\n",
      "k=3, mape=0.39267123797793474\n",
      "k=5, mape=0.38855783839940833\n",
      "k=7, mape=0.3826335395447818\n",
      "k=9, mape=0.37815115401639443\n"
     ]
    }
   ],
   "source": [
    "for k in [1, 3, 5, 7, 9]:\n",
    "    knn = KNeighborsRegressor(n_neighbors=k)\n",
    "    knn.fit(X_train, y_train)\n",
    "    y_pred = knn.predict(X_test)\n",
    "    error = mape(y_test, y_pred)\n",
    "    print(f\"k={k}, mape={error}\")"
   ]
  },
  {
   "cell_type": "code",
   "execution_count": 21,
   "metadata": {},
   "outputs": [],
   "source": [
    "scaler = MinMaxScaler()"
   ]
  },
  {
   "cell_type": "code",
   "execution_count": 22,
   "metadata": {},
   "outputs": [],
   "source": [
    "scaler.fit(X)\n",
    "X_scaled = scaler.transform(X)\n",
    "X_scaled = pd.DataFrame(X_scaled, columns=X.columns)"
   ]
  },
  {
   "cell_type": "code",
   "execution_count": 23,
   "metadata": {},
   "outputs": [],
   "source": [
    "X_train, X_test, y_train, y_test = train_test_split(X_scaled, y, test_size=.20, random_state=12345, shuffle=True)"
   ]
  },
  {
   "cell_type": "code",
   "execution_count": 24,
   "metadata": {},
   "outputs": [
    {
     "name": "stdout",
     "output_type": "stream",
     "text": [
      "k=1, mape=0.4385753069608717\n",
      "k=3, mape=0.40724304583843124\n",
      "k=5, mape=0.3945713252339311\n",
      "k=7, mape=0.38907837675492674\n",
      "k=9, mape=0.38410142253458934\n"
     ]
    }
   ],
   "source": [
    "for k in [1, 3, 5, 7, 9]:\n",
    "    knn = KNeighborsRegressor(n_neighbors=k)\n",
    "    knn.fit(X_train, y_train)\n",
    "    y_pred = knn.predict(X_test)\n",
    "    error = mape(y_test, y_pred)\n",
    "    print(f\"k={k}, mape={error}\")"
   ]
  },
  {
   "cell_type": "code",
   "execution_count": 25,
   "metadata": {},
   "outputs": [
    {
     "data": {
      "text/plain": [
       "KNeighborsRegressor(algorithm='auto', leaf_size=30, metric='minkowski',\n",
       "                    metric_params=None, n_jobs=None, n_neighbors=3, p=2,\n",
       "                    weights='uniform')"
      ]
     },
     "execution_count": 25,
     "metadata": {},
     "output_type": "execute_result"
    }
   ],
   "source": [
    "knn = KNeighborsRegressor(n_neighbors=3)\n",
    "knn.fit(X_train, y_train)"
   ]
  },
  {
   "cell_type": "code",
   "execution_count": 26,
   "metadata": {},
   "outputs": [],
   "source": [
    "novo_apto = pd.DataFrame([[60, 4, 2, 500, 1]], columns=X_train.columns)"
   ]
  },
  {
   "cell_type": "code",
   "execution_count": 27,
   "metadata": {},
   "outputs": [],
   "source": [
    "novo_apto_scaled = scaler.transform(novo_apto)"
   ]
  },
  {
   "cell_type": "code",
   "execution_count": 28,
   "metadata": {},
   "outputs": [
    {
     "data": {
      "text/plain": [
       "array([2233.33333333])"
      ]
     },
     "execution_count": 28,
     "metadata": {},
     "output_type": "execute_result"
    }
   ],
   "source": [
    "knn.predict(novo_apto_scaled)"
   ]
  },
  {
   "cell_type": "code",
   "execution_count": 29,
   "metadata": {},
   "outputs": [],
   "source": [
    "residuals = y_test - y_pred"
   ]
  },
  {
   "cell_type": "code",
   "execution_count": 30,
   "metadata": {},
   "outputs": [
    {
     "data": {
      "text/plain": [
       "<seaborn.axisgrid.FacetGrid at 0x1841ad8d460>"
      ]
     },
     "execution_count": 30,
     "metadata": {},
     "output_type": "execute_result"
    },
    {
     "data": {
      "image/png": "[encoded data removed]",
      "text/plain": [
       "<Figure size 360x360 with 1 Axes>"
      ]
     },
     "metadata": {
      "needs_background": "light"
     },
     "output_type": "display_data"
    }
   ],
   "source": [
    "sns.displot(residuals)"
   ]
  },
  {
   "cell_type": "code",
   "execution_count": 31,
   "metadata": {},
   "outputs": [
    {
     "data": {
      "text/plain": [
       "<matplotlib.lines.Line2D at 0x1842021c550>"
      ]
     },
     "execution_count": 31,
     "metadata": {},
     "output_type": "execute_result"
    },
    {
     "data": {
      "image/png": "[encoded data removed]",
      "text/plain": [
       "<Figure size 432x288 with 1 Axes>"
      ]
     },
     "metadata": {
      "needs_background": "light"
     },
     "output_type": "display_data"
    }
   ],
   "source": [
    "residuals_df = pd.DataFrame(residuals).reset_index(drop=True)\n",
    "residuals_df[\"preço\"].plot()\n",
    "plt.axhline(y=0, c=\"r\")"
   ]
  },
  {
   "cell_type": "code",
   "execution_count": 32,
   "metadata": {},
   "outputs": [
    {
     "data": {
      "text/plain": [
       "0.6988991762971744"
      ]
     },
     "execution_count": 32,
     "metadata": {},
     "output_type": "execute_result"
    }
   ],
   "source": [
    "r2_score(y_test, y_pred)"
   ]
  },
  {
   "cell_type": "markdown",
   "metadata": {},
   "source": [
    "# Com Bairro"
   ]
  },
  {
   "cell_type": "code",
   "execution_count": 33,
   "metadata": {},
   "outputs": [],
   "source": [
    "df = pd.read_csv('C:/Users/Thiago/Desktop/Potifolio/Projeto calculadora de imoveis/Data Sets/Model_input_with_crawlers.csv')\n",
    "X = df[[\"area_limpo\", \"Banheiro\", \"Quarto\", \"condominio\", \"Garagem\", \"crawler\"]]\n",
    "y = df[\"preço\"]"
   ]
  },
  {
   "cell_type": "code",
   "execution_count": 34,
   "metadata": {},
   "outputs": [],
   "source": [
    "X = pd.concat((X,pd.get_dummies(X[\"crawler\"])), axis=1).drop(columns=[\"crawler\"])"
   ]
  },
  {
   "cell_type": "code",
   "execution_count": 35,
   "metadata": {},
   "outputs": [],
   "source": [
    "X_train, X_test, y_train, y_test = train_test_split(X, y, test_size=.20, random_state=12345, shuffle=True)"
   ]
  },
  {
   "cell_type": "code",
   "execution_count": 36,
   "metadata": {},
   "outputs": [
    {
     "data": {
      "text/plain": [
       "0.4034407642490305"
      ]
     },
     "execution_count": 36,
     "metadata": {},
     "output_type": "execute_result"
    }
   ],
   "source": [
    "lm = LinearRegression()\n",
    "lm.fit(X_train, y_train)\n",
    "y_pred = lm.predict(X_test)\n",
    "mape(y_test, y_pred)"
   ]
  },
  {
   "cell_type": "code",
   "execution_count": 37,
   "metadata": {},
   "outputs": [
    {
     "data": {
      "text/plain": [
       "106.64835751902443"
      ]
     },
     "execution_count": 37,
     "metadata": {},
     "output_type": "execute_result"
    },
    {
     "data": {
      "image/png": "[encoded data removed]",
      "text/plain": [
       "<Figure size 360x360 with 1 Axes>"
      ]
     },
     "metadata": {
      "needs_background": "light"
     },
     "output_type": "display_data"
    }
   ],
   "source": [
    "residuals = y_test - y_pred\n",
    "sns.displot(residuals)\n",
    "np.mean(residuals)"
   ]
  },
  {
   "cell_type": "code",
   "execution_count": 38,
   "metadata": {},
   "outputs": [],
   "source": [
    "scaler = MinMaxScaler()\n",
    "scaler.fit(X)\n",
    "X_scaled = scaler.transform(X)\n",
    "X_scaled = pd.DataFrame(X_scaled, columns=X.columns)"
   ]
  },
  {
   "cell_type": "code",
   "execution_count": 39,
   "metadata": {},
   "outputs": [],
   "source": [
    "X_train, X_test, y_train, y_test = train_test_split(X_scaled, y, test_size=.20, random_state=12345, shuffle=True)"
   ]
  },
  {
   "cell_type": "code",
   "execution_count": 40,
   "metadata": {},
   "outputs": [
    {
     "name": "stdout",
     "output_type": "stream",
     "text": [
      "k=1, mape=0.31785174729352367\n",
      "k=3, mape=0.2756615704629679\n",
      "k=5, mape=0.26992140054688146\n",
      "k=7, mape=0.2698043932397728\n",
      "k=9, mape=0.2648886486802932\n"
     ]
    }
   ],
   "source": [
    "for k in [1, 3, 5, 7, 9]:\n",
    "    knn = KNeighborsRegressor(n_neighbors=k)\n",
    "    knn.fit(X_train, y_train)\n",
    "    y_pred = knn.predict(X_test)\n",
    "    error = mape(y_test, y_pred)\n",
    "    print(f\"k={k}, mape={error}\")"
   ]
  },
  {
   "cell_type": "code",
   "execution_count": 41,
   "metadata": {},
   "outputs": [],
   "source": [
    "knn = KNeighborsRegressor(n_neighbors=3)\n",
    "knn.fit(X_train, y_train)\n",
    "y_pred = knn.predict(X_test)\n",
    "error = mape(y_test, y_pred)\n",
    "residuals = y_test - y_pred"
   ]
  },
  {
   "cell_type": "code",
   "execution_count": 42,
   "metadata": {},
   "outputs": [
    {
     "data": {
      "text/plain": [
       "<seaborn.axisgrid.FacetGrid at 0x184204af4f0>"
      ]
     },
     "execution_count": 42,
     "metadata": {},
     "output_type": "execute_result"
    },
    {
     "data": {
      "image/png": "[encoded data removed]",
      "text/plain": [
       "<Figure size 360x360 with 1 Axes>"
      ]
     },
     "metadata": {
      "needs_background": "light"
     },
     "output_type": "display_data"
    }
   ],
   "source": [
    "sns.displot(residuals)"
   ]
  },
  {
   "cell_type": "code",
   "execution_count": 43,
   "metadata": {},
   "outputs": [
    {
     "data": {
      "text/plain": [
       "0.8000401629719616"
      ]
     },
     "execution_count": 43,
     "metadata": {},
     "output_type": "execute_result"
    }
   ],
   "source": [
    "r2_score(y_test, y_pred)"
   ]
  },
  {
   "cell_type": "code",
   "execution_count": 44,
   "metadata": {},
   "outputs": [
    {
     "data": {
      "text/plain": [
       "0.4476574491662741"
      ]
     },
     "execution_count": 44,
     "metadata": {},
     "output_type": "execute_result"
    }
   ],
   "source": [
    "dt = DecisionTreeRegressor(max_depth=3)\n",
    "dt.fit(X_train, y_train)\n",
    "y_pred = dt.predict(X_test)\n",
    "mape(y_test, y_pred)"
   ]
  },
  {
   "cell_type": "code",
   "execution_count": 45,
   "metadata": {},
   "outputs": [
    {
     "data": {
      "text/plain": [
       "<seaborn.axisgrid.FacetGrid at 0x184211725e0>"
      ]
     },
     "execution_count": 45,
     "metadata": {},
     "output_type": "execute_result"
    },
    {
     "data": {
      "image/png": "[encoded data removed]",
      "text/plain": [
       "<Figure size 360x360 with 1 Axes>"
      ]
     },
     "metadata": {
      "needs_background": "light"
     },
     "output_type": "display_data"
    }
   ],
   "source": [
    "sns.displot(residuals)"
   ]
  },
  {
   "cell_type": "code",
   "execution_count": 46,
   "metadata": {},
   "outputs": [
    {
     "data": {
      "text/plain": [
       "0.7027436667542006"
      ]
     },
     "execution_count": 46,
     "metadata": {},
     "output_type": "execute_result"
    }
   ],
   "source": [
    "r2_score(y_test, y_pred)"
   ]
  },
  {
   "cell_type": "code",
   "execution_count": 47,
   "metadata": {
    "collapsed": true,
    "jupyter": {
     "outputs_hidden": true
    }
   },
   "outputs": [
    {
     "name": "stdout",
     "output_type": "stream",
     "text": [
      "Learning rate set to 0.052472\n",
      "0:\tlearn: 5968.2090669\ttotal: 353ms\tremaining: 5m 52s\n",
      "1:\tlearn: 5782.9266569\ttotal: 365ms\tremaining: 3m 2s\n",
      "2:\tlearn: 5600.0156007\ttotal: 378ms\tremaining: 2m 5s\n",
      "3:\tlearn: 5425.1008801\ttotal: 389ms\tremaining: 1m 36s\n",
      "4:\tlearn: 5274.1435216\ttotal: 392ms\tremaining: 1m 18s\n",
      "5:\tlearn: 5134.7368281\ttotal: 397ms\tremaining: 1m 5s\n",
      "6:\tlearn: 4998.0097695\ttotal: 400ms\tremaining: 56.8s\n",
      "7:\tlearn: 4869.9131635\ttotal: 404ms\tremaining: 50s\n",
      "8:\tlearn: 4742.6454027\ttotal: 407ms\tremaining: 44.8s\n",
      "9:\tlearn: 4623.2584694\ttotal: 410ms\tremaining: 40.6s\n",
      "10:\tlearn: 4506.9799591\ttotal: 413ms\tremaining: 37.1s\n",
      "11:\tlearn: 4398.7854789\ttotal: 416ms\tremaining: 34.3s\n",
      "12:\tlearn: 4292.3126541\ttotal: 420ms\tremaining: 31.9s\n",
      "13:\tlearn: 4189.7316634\ttotal: 423ms\tremaining: 29.8s\n",
      "14:\tlearn: 4103.9681539\ttotal: 426ms\tremaining: 28s\n",
      "15:\tlearn: 4017.5360423\ttotal: 429ms\tremaining: 26.4s\n",
      "16:\tlearn: 3930.2884016\ttotal: 433ms\tremaining: 25s\n",
      "17:\tlearn: 3856.2958858\ttotal: 436ms\tremaining: 23.8s\n",
      "18:\tlearn: 3776.2683843\ttotal: 439ms\tremaining: 22.7s\n",
      "19:\tlearn: 3708.5131544\ttotal: 443ms\tremaining: 21.7s\n",
      "20:\tlearn: 3644.3423830\ttotal: 446ms\tremaining: 20.8s\n",
      "21:\tlearn: 3578.2388900\ttotal: 449ms\tremaining: 19.9s\n",
      "22:\tlearn: 3517.3977098\ttotal: 452ms\tremaining: 19.2s\n",
      "23:\tlearn: 3462.0786920\ttotal: 455ms\tremaining: 18.5s\n",
      "24:\tlearn: 3415.2863536\ttotal: 458ms\tremaining: 17.9s\n",
      "25:\tlearn: 3367.0432112\ttotal: 461ms\tremaining: 17.3s\n",
      "26:\tlearn: 3320.0766162\ttotal: 464ms\tremaining: 16.7s\n",
      "27:\tlearn: 3279.7656947\ttotal: 468ms\tremaining: 16.2s\n",
      "28:\tlearn: 3233.4976525\ttotal: 471ms\tremaining: 15.8s\n",
      "29:\tlearn: 3198.9914747\ttotal: 474ms\tremaining: 15.3s\n",
      "30:\tlearn: 3164.3547558\ttotal: 477ms\tremaining: 14.9s\n",
      "31:\tlearn: 3131.4296550\ttotal: 480ms\tremaining: 14.5s\n",
      "32:\tlearn: 3101.1249994\ttotal: 483ms\tremaining: 14.2s\n",
      "33:\tlearn: 3073.4242813\ttotal: 486ms\tremaining: 13.8s\n",
      "34:\tlearn: 3043.5523461\ttotal: 489ms\tremaining: 13.5s\n",
      "35:\tlearn: 3017.6006774\ttotal: 492ms\tremaining: 13.2s\n",
      "36:\tlearn: 2987.7643088\ttotal: 496ms\tremaining: 12.9s\n",
      "37:\tlearn: 2961.4469520\ttotal: 499ms\tremaining: 12.6s\n",
      "38:\tlearn: 2936.8313059\ttotal: 502ms\tremaining: 12.4s\n",
      "39:\tlearn: 2914.9155256\ttotal: 505ms\tremaining: 12.1s\n",
      "40:\tlearn: 2892.0593513\ttotal: 508ms\tremaining: 11.9s\n",
      "41:\tlearn: 2872.9771819\ttotal: 516ms\tremaining: 11.8s\n",
      "42:\tlearn: 2852.9271504\ttotal: 520ms\tremaining: 11.6s\n",
      "43:\tlearn: 2831.9679820\ttotal: 523ms\tremaining: 11.4s\n",
      "44:\tlearn: 2814.6717590\ttotal: 526ms\tremaining: 11.2s\n",
      "45:\tlearn: 2801.5545847\ttotal: 531ms\tremaining: 11s\n",
      "46:\tlearn: 2786.6814381\ttotal: 536ms\tremaining: 10.9s\n",
      "47:\tlearn: 2772.1619932\ttotal: 541ms\tremaining: 10.7s\n",
      "48:\tlearn: 2759.9378834\ttotal: 547ms\tremaining: 10.6s\n",
      "49:\tlearn: 2746.9576347\ttotal: 553ms\tremaining: 10.5s\n",
      "50:\tlearn: 2736.0597678\ttotal: 565ms\tremaining: 10.5s\n",
      "51:\tlearn: 2721.2984022\ttotal: 578ms\tremaining: 10.5s\n",
      "52:\tlearn: 2709.1788446\ttotal: 582ms\tremaining: 10.4s\n",
      "53:\tlearn: 2694.8478593\ttotal: 585ms\tremaining: 10.3s\n",
      "54:\tlearn: 2684.9578380\ttotal: 589ms\tremaining: 10.1s\n",
      "55:\tlearn: 2676.1782904\ttotal: 594ms\tremaining: 10s\n",
      "56:\tlearn: 2667.5649846\ttotal: 598ms\tremaining: 9.9s\n",
      "57:\tlearn: 2659.1634864\ttotal: 607ms\tremaining: 9.85s\n",
      "58:\tlearn: 2652.3966865\ttotal: 611ms\tremaining: 9.75s\n",
      "59:\tlearn: 2644.8443489\ttotal: 617ms\tremaining: 9.66s\n",
      "60:\tlearn: 2637.5964855\ttotal: 625ms\tremaining: 9.62s\n",
      "61:\tlearn: 2630.3813510\ttotal: 637ms\tremaining: 9.64s\n",
      "62:\tlearn: 2622.7868875\ttotal: 643ms\tremaining: 9.56s\n",
      "63:\tlearn: 2615.9891085\ttotal: 648ms\tremaining: 9.47s\n",
      "64:\tlearn: 2609.1867204\ttotal: 653ms\tremaining: 9.39s\n",
      "65:\tlearn: 2602.6994505\ttotal: 657ms\tremaining: 9.29s\n",
      "66:\tlearn: 2595.6547740\ttotal: 662ms\tremaining: 9.22s\n",
      "67:\tlearn: 2589.8995346\ttotal: 682ms\tremaining: 9.35s\n",
      "68:\tlearn: 2583.1611901\ttotal: 688ms\tremaining: 9.29s\n",
      "69:\tlearn: 2577.6806728\ttotal: 694ms\tremaining: 9.22s\n",
      "70:\tlearn: 2572.0865349\ttotal: 699ms\tremaining: 9.15s\n",
      "71:\tlearn: 2566.4044581\ttotal: 704ms\tremaining: 9.07s\n",
      "72:\tlearn: 2561.3371821\ttotal: 710ms\tremaining: 9.02s\n",
      "73:\tlearn: 2555.3154444\ttotal: 716ms\tremaining: 8.96s\n",
      "74:\tlearn: 2551.2175451\ttotal: 739ms\tremaining: 9.12s\n",
      "75:\tlearn: 2544.7246296\ttotal: 745ms\tremaining: 9.05s\n",
      "76:\tlearn: 2538.8038569\ttotal: 749ms\tremaining: 8.98s\n",
      "77:\tlearn: 2535.0497034\ttotal: 754ms\tremaining: 8.91s\n",
      "78:\tlearn: 2529.5721209\ttotal: 758ms\tremaining: 8.84s\n",
      "79:\tlearn: 2524.4948573\ttotal: 763ms\tremaining: 8.77s\n",
      "80:\tlearn: 2519.5818842\ttotal: 776ms\tremaining: 8.8s\n",
      "81:\tlearn: 2515.3304623\ttotal: 780ms\tremaining: 8.73s\n",
      "82:\tlearn: 2511.6652940\ttotal: 786ms\tremaining: 8.68s\n",
      "83:\tlearn: 2505.6438098\ttotal: 790ms\tremaining: 8.61s\n",
      "84:\tlearn: 2502.4134011\ttotal: 793ms\tremaining: 8.53s\n",
      "85:\tlearn: 2498.8101910\ttotal: 796ms\tremaining: 8.46s\n",
      "86:\tlearn: 2495.7536675\ttotal: 800ms\tremaining: 8.39s\n",
      "87:\tlearn: 2493.3669544\ttotal: 803ms\tremaining: 8.32s\n",
      "88:\tlearn: 2490.1567679\ttotal: 806ms\tremaining: 8.25s\n",
      "89:\tlearn: 2488.2046201\ttotal: 809ms\tremaining: 8.18s\n",
      "90:\tlearn: 2485.2172863\ttotal: 812ms\tremaining: 8.11s\n",
      "91:\tlearn: 2480.2908362\ttotal: 816ms\tremaining: 8.05s\n",
      "92:\tlearn: 2478.6625017\ttotal: 819ms\tremaining: 7.98s\n",
      "93:\tlearn: 2474.6700745\ttotal: 822ms\tremaining: 7.92s\n",
      "94:\tlearn: 2472.1032560\ttotal: 825ms\tremaining: 7.86s\n",
      "95:\tlearn: 2469.0482374\ttotal: 828ms\tremaining: 7.8s\n",
      "96:\tlearn: 2465.0722022\ttotal: 831ms\tremaining: 7.74s\n",
      "97:\tlearn: 2461.5877564\ttotal: 835ms\tremaining: 7.68s\n",
      "98:\tlearn: 2457.7984389\ttotal: 838ms\tremaining: 7.62s\n",
      "99:\tlearn: 2455.6949715\ttotal: 841ms\tremaining: 7.57s\n",
      "100:\tlearn: 2454.4614007\ttotal: 844ms\tremaining: 7.51s\n",
      "101:\tlearn: 2452.1344038\ttotal: 852ms\tremaining: 7.5s\n",
      "102:\tlearn: 2448.3176777\ttotal: 868ms\tremaining: 7.56s\n",
      "103:\tlearn: 2444.1895344\ttotal: 873ms\tremaining: 7.52s\n",
      "104:\tlearn: 2441.9019525\ttotal: 877ms\tremaining: 7.48s\n",
      "105:\tlearn: 2438.0295528\ttotal: 883ms\tremaining: 7.45s\n",
      "106:\tlearn: 2434.5936297\ttotal: 890ms\tremaining: 7.43s\n",
      "107:\tlearn: 2431.5196888\ttotal: 893ms\tremaining: 7.38s\n",
      "108:\tlearn: 2430.3294397\ttotal: 896ms\tremaining: 7.33s\n",
      "109:\tlearn: 2427.2166747\ttotal: 899ms\tremaining: 7.28s\n",
      "110:\tlearn: 2424.8376551\ttotal: 904ms\tremaining: 7.24s\n",
      "111:\tlearn: 2420.6271327\ttotal: 907ms\tremaining: 7.19s\n",
      "112:\tlearn: 2418.4651884\ttotal: 910ms\tremaining: 7.14s\n",
      "113:\tlearn: 2415.4806655\ttotal: 913ms\tremaining: 7.1s\n",
      "114:\tlearn: 2413.9418766\ttotal: 917ms\tremaining: 7.06s\n",
      "115:\tlearn: 2411.5652821\ttotal: 920ms\tremaining: 7.01s\n",
      "116:\tlearn: 2410.2461095\ttotal: 923ms\tremaining: 6.97s\n",
      "117:\tlearn: 2407.9735142\ttotal: 926ms\tremaining: 6.92s\n",
      "118:\tlearn: 2405.3667871\ttotal: 930ms\tremaining: 6.88s\n",
      "119:\tlearn: 2403.5708605\ttotal: 933ms\tremaining: 6.84s\n",
      "120:\tlearn: 2401.1457495\ttotal: 935ms\tremaining: 6.79s\n",
      "121:\tlearn: 2397.8371920\ttotal: 939ms\tremaining: 6.75s\n",
      "122:\tlearn: 2395.9737796\ttotal: 942ms\tremaining: 6.71s\n",
      "123:\tlearn: 2391.7501331\ttotal: 945ms\tremaining: 6.67s\n",
      "124:\tlearn: 2389.1537003\ttotal: 948ms\tremaining: 6.63s\n",
      "125:\tlearn: 2386.0250797\ttotal: 951ms\tremaining: 6.59s\n",
      "126:\tlearn: 2384.0225455\ttotal: 954ms\tremaining: 6.55s\n",
      "127:\tlearn: 2381.4735938\ttotal: 957ms\tremaining: 6.52s\n",
      "128:\tlearn: 2378.7802975\ttotal: 960ms\tremaining: 6.48s\n",
      "129:\tlearn: 2377.2988331\ttotal: 963ms\tremaining: 6.44s\n",
      "130:\tlearn: 2376.1861626\ttotal: 966ms\tremaining: 6.41s\n",
      "131:\tlearn: 2372.8672849\ttotal: 969ms\tremaining: 6.37s\n",
      "132:\tlearn: 2370.8517870\ttotal: 972ms\tremaining: 6.34s\n",
      "133:\tlearn: 2368.1711624\ttotal: 975ms\tremaining: 6.3s\n",
      "134:\tlearn: 2365.7570816\ttotal: 979ms\tremaining: 6.27s\n",
      "135:\tlearn: 2364.0994183\ttotal: 982ms\tremaining: 6.24s\n",
      "136:\tlearn: 2361.0836581\ttotal: 985ms\tremaining: 6.2s\n",
      "137:\tlearn: 2359.0604414\ttotal: 988ms\tremaining: 6.17s\n",
      "138:\tlearn: 2357.5506463\ttotal: 991ms\tremaining: 6.14s\n",
      "139:\tlearn: 2355.6135642\ttotal: 995ms\tremaining: 6.11s\n",
      "140:\tlearn: 2354.0201199\ttotal: 998ms\tremaining: 6.08s\n",
      "141:\tlearn: 2351.1822097\ttotal: 1s\tremaining: 6.05s\n",
      "142:\tlearn: 2348.5236519\ttotal: 1s\tremaining: 6.02s\n",
      "143:\tlearn: 2346.1356384\ttotal: 1.01s\tremaining: 5.99s\n",
      "144:\tlearn: 2342.8943369\ttotal: 1.01s\tremaining: 5.96s\n",
      "145:\tlearn: 2340.9585026\ttotal: 1.01s\tremaining: 5.94s\n",
      "146:\tlearn: 2339.3708997\ttotal: 1.02s\tremaining: 5.92s\n",
      "147:\tlearn: 2337.9727812\ttotal: 1.02s\tremaining: 5.9s\n",
      "148:\tlearn: 2334.8890820\ttotal: 1.03s\tremaining: 5.88s\n",
      "149:\tlearn: 2332.5887725\ttotal: 1.03s\tremaining: 5.86s\n",
      "150:\tlearn: 2330.5144203\ttotal: 1.04s\tremaining: 5.85s\n",
      "151:\tlearn: 2328.4293649\ttotal: 1.05s\tremaining: 5.86s\n",
      "152:\tlearn: 2327.1122531\ttotal: 1.05s\tremaining: 5.83s\n",
      "153:\tlearn: 2324.9205293\ttotal: 1.06s\tremaining: 5.8s\n",
      "154:\tlearn: 2323.7619195\ttotal: 1.06s\tremaining: 5.78s\n",
      "155:\tlearn: 2322.1988733\ttotal: 1.06s\tremaining: 5.75s\n",
      "156:\tlearn: 2321.3921897\ttotal: 1.06s\tremaining: 5.72s\n",
      "157:\tlearn: 2319.9690052\ttotal: 1.07s\tremaining: 5.7s\n",
      "158:\tlearn: 2319.1650744\ttotal: 1.07s\tremaining: 5.67s\n",
      "159:\tlearn: 2318.0979008\ttotal: 1.07s\tremaining: 5.65s\n",
      "160:\tlearn: 2315.5100268\ttotal: 1.08s\tremaining: 5.62s\n",
      "161:\tlearn: 2314.3638753\ttotal: 1.08s\tremaining: 5.6s\n",
      "162:\tlearn: 2311.9906328\ttotal: 1.08s\tremaining: 5.57s\n",
      "163:\tlearn: 2310.7215806\ttotal: 1.09s\tremaining: 5.54s\n",
      "164:\tlearn: 2309.6600992\ttotal: 1.09s\tremaining: 5.52s\n",
      "165:\tlearn: 2307.0383071\ttotal: 1.09s\tremaining: 5.5s\n",
      "166:\tlearn: 2303.8993992\ttotal: 1.1s\tremaining: 5.47s\n",
      "167:\tlearn: 2300.5708591\ttotal: 1.1s\tremaining: 5.45s\n",
      "168:\tlearn: 2296.8758467\ttotal: 1.1s\tremaining: 5.43s\n",
      "169:\tlearn: 2295.6634110\ttotal: 1.11s\tremaining: 5.41s\n",
      "170:\tlearn: 2294.6154893\ttotal: 1.11s\tremaining: 5.38s\n",
      "171:\tlearn: 2293.5906989\ttotal: 1.11s\tremaining: 5.36s\n",
      "172:\tlearn: 2292.6315916\ttotal: 1.12s\tremaining: 5.34s\n",
      "173:\tlearn: 2291.2025241\ttotal: 1.12s\tremaining: 5.32s\n",
      "174:\tlearn: 2289.6960878\ttotal: 1.12s\tremaining: 5.29s\n",
      "175:\tlearn: 2288.5575648\ttotal: 1.13s\tremaining: 5.27s\n",
      "176:\tlearn: 2287.6427144\ttotal: 1.13s\tremaining: 5.25s\n",
      "177:\tlearn: 2286.4272693\ttotal: 1.13s\tremaining: 5.24s\n",
      "178:\tlearn: 2285.6683817\ttotal: 1.14s\tremaining: 5.23s\n",
      "179:\tlearn: 2283.0896962\ttotal: 1.15s\tremaining: 5.22s\n",
      "180:\tlearn: 2282.0828181\ttotal: 1.15s\tremaining: 5.22s\n",
      "181:\tlearn: 2281.1650033\ttotal: 1.16s\tremaining: 5.21s\n",
      "182:\tlearn: 2279.8883753\ttotal: 1.16s\tremaining: 5.19s\n",
      "183:\tlearn: 2278.1824413\ttotal: 1.17s\tremaining: 5.17s\n",
      "184:\tlearn: 2276.5703657\ttotal: 1.17s\tremaining: 5.16s\n",
      "185:\tlearn: 2273.6154491\ttotal: 1.18s\tremaining: 5.15s\n",
      "186:\tlearn: 2272.6516225\ttotal: 1.19s\tremaining: 5.17s\n",
      "187:\tlearn: 2271.3807719\ttotal: 1.19s\tremaining: 5.16s\n",
      "188:\tlearn: 2270.3621722\ttotal: 1.2s\tremaining: 5.14s\n",
      "189:\tlearn: 2269.0820411\ttotal: 1.2s\tremaining: 5.13s\n",
      "190:\tlearn: 2268.2080389\ttotal: 1.21s\tremaining: 5.12s\n",
      "191:\tlearn: 2266.2922989\ttotal: 1.21s\tremaining: 5.11s\n",
      "192:\tlearn: 2265.0555400\ttotal: 1.22s\tremaining: 5.1s\n",
      "193:\tlearn: 2263.3911494\ttotal: 1.23s\tremaining: 5.09s\n",
      "194:\tlearn: 2260.9644108\ttotal: 1.23s\tremaining: 5.09s\n",
      "195:\tlearn: 2260.1052009\ttotal: 1.24s\tremaining: 5.08s\n",
      "196:\tlearn: 2259.1282273\ttotal: 1.24s\tremaining: 5.07s\n",
      "197:\tlearn: 2258.0907604\ttotal: 1.25s\tremaining: 5.06s\n",
      "198:\tlearn: 2257.2073948\ttotal: 1.25s\tremaining: 5.05s\n",
      "199:\tlearn: 2255.7336945\ttotal: 1.26s\tremaining: 5.03s\n",
      "200:\tlearn: 2254.8119617\ttotal: 1.26s\tremaining: 5.02s\n",
      "201:\tlearn: 2252.0216312\ttotal: 1.27s\tremaining: 5.01s\n",
      "202:\tlearn: 2251.1171871\ttotal: 1.27s\tremaining: 5s\n",
      "203:\tlearn: 2250.3135703\ttotal: 1.28s\tremaining: 5s\n",
      "204:\tlearn: 2249.0718010\ttotal: 1.28s\tremaining: 4.98s\n",
      "205:\tlearn: 2247.3188363\ttotal: 1.29s\tremaining: 4.97s\n",
      "206:\tlearn: 2246.2561917\ttotal: 1.29s\tremaining: 4.96s\n",
      "207:\tlearn: 2243.6487255\ttotal: 1.3s\tremaining: 4.95s\n",
      "208:\tlearn: 2242.2922766\ttotal: 1.3s\tremaining: 4.94s\n",
      "209:\tlearn: 2241.3488048\ttotal: 1.33s\tremaining: 4.99s\n",
      "210:\tlearn: 2239.4362126\ttotal: 1.33s\tremaining: 4.99s\n",
      "211:\tlearn: 2236.8700254\ttotal: 1.34s\tremaining: 4.98s\n",
      "212:\tlearn: 2234.8122289\ttotal: 1.35s\tremaining: 4.97s\n",
      "213:\tlearn: 2232.8939171\ttotal: 1.35s\tremaining: 4.98s\n",
      "214:\tlearn: 2230.3492287\ttotal: 1.36s\tremaining: 4.97s\n",
      "215:\tlearn: 2227.4110851\ttotal: 1.37s\tremaining: 4.96s\n",
      "216:\tlearn: 2226.0663472\ttotal: 1.37s\tremaining: 4.96s\n",
      "217:\tlearn: 2225.2493601\ttotal: 1.38s\tremaining: 4.95s\n",
      "218:\tlearn: 2223.2507371\ttotal: 1.39s\tremaining: 4.95s\n",
      "219:\tlearn: 2221.5678820\ttotal: 1.39s\tremaining: 4.93s\n",
      "220:\tlearn: 2220.8355176\ttotal: 1.4s\tremaining: 4.92s\n",
      "221:\tlearn: 2218.5661568\ttotal: 1.4s\tremaining: 4.92s\n",
      "222:\tlearn: 2216.4916991\ttotal: 1.41s\tremaining: 4.92s\n",
      "223:\tlearn: 2214.7712197\ttotal: 1.42s\tremaining: 4.92s\n",
      "224:\tlearn: 2212.6603626\ttotal: 1.42s\tremaining: 4.9s\n",
      "225:\tlearn: 2210.8273227\ttotal: 1.43s\tremaining: 4.9s\n",
      "226:\tlearn: 2208.8082405\ttotal: 1.44s\tremaining: 4.89s\n",
      "227:\tlearn: 2207.8159181\ttotal: 1.44s\tremaining: 4.88s\n",
      "228:\tlearn: 2206.1473280\ttotal: 1.45s\tremaining: 4.88s\n",
      "229:\tlearn: 2204.3865967\ttotal: 1.45s\tremaining: 4.87s\n",
      "230:\tlearn: 2201.7581261\ttotal: 1.46s\tremaining: 4.86s\n",
      "231:\tlearn: 2199.9813203\ttotal: 1.47s\tremaining: 4.86s\n",
      "232:\tlearn: 2198.7602592\ttotal: 1.47s\tremaining: 4.84s\n",
      "233:\tlearn: 2197.1888712\ttotal: 1.48s\tremaining: 4.85s\n",
      "234:\tlearn: 2195.5651414\ttotal: 1.49s\tremaining: 4.84s\n",
      "235:\tlearn: 2194.4003609\ttotal: 1.5s\tremaining: 4.85s\n",
      "236:\tlearn: 2192.8121476\ttotal: 1.5s\tremaining: 4.84s\n",
      "237:\tlearn: 2191.2453572\ttotal: 1.51s\tremaining: 4.83s\n",
      "238:\tlearn: 2189.4368338\ttotal: 1.52s\tremaining: 4.85s\n",
      "239:\tlearn: 2188.4948349\ttotal: 1.53s\tremaining: 4.84s\n",
      "240:\tlearn: 2186.1497376\ttotal: 1.53s\tremaining: 4.83s\n",
      "241:\tlearn: 2185.4618613\ttotal: 1.54s\tremaining: 4.82s\n",
      "242:\tlearn: 2183.9508954\ttotal: 1.54s\tremaining: 4.81s\n",
      "243:\tlearn: 2183.0859820\ttotal: 1.55s\tremaining: 4.82s\n",
      "244:\tlearn: 2181.0984799\ttotal: 1.56s\tremaining: 4.8s\n",
      "245:\tlearn: 2180.3260465\ttotal: 1.56s\tremaining: 4.79s\n",
      "246:\tlearn: 2178.9272269\ttotal: 1.57s\tremaining: 4.79s\n",
      "247:\tlearn: 2177.2434282\ttotal: 1.57s\tremaining: 4.78s\n",
      "248:\tlearn: 2175.6952859\ttotal: 1.58s\tremaining: 4.77s\n",
      "249:\tlearn: 2174.5424439\ttotal: 1.59s\tremaining: 4.78s\n",
      "250:\tlearn: 2173.0590686\ttotal: 1.6s\tremaining: 4.78s\n",
      "251:\tlearn: 2171.6335751\ttotal: 1.61s\tremaining: 4.77s\n",
      "252:\tlearn: 2169.7819615\ttotal: 1.62s\tremaining: 4.78s\n",
      "253:\tlearn: 2168.2883233\ttotal: 1.62s\tremaining: 4.77s\n",
      "254:\tlearn: 2167.1991723\ttotal: 1.63s\tremaining: 4.76s\n",
      "255:\tlearn: 2164.3948462\ttotal: 1.64s\tremaining: 4.76s\n",
      "256:\tlearn: 2163.4876948\ttotal: 1.64s\tremaining: 4.75s\n",
      "257:\tlearn: 2162.4730535\ttotal: 1.65s\tremaining: 4.75s\n",
      "258:\tlearn: 2161.4979361\ttotal: 1.66s\tremaining: 4.75s\n",
      "259:\tlearn: 2160.6952860\ttotal: 1.67s\tremaining: 4.75s\n",
      "260:\tlearn: 2159.6788770\ttotal: 1.67s\tremaining: 4.74s\n",
      "261:\tlearn: 2156.9048302\ttotal: 1.68s\tremaining: 4.73s\n",
      "262:\tlearn: 2155.4664941\ttotal: 1.68s\tremaining: 4.72s\n",
      "263:\tlearn: 2152.7100750\ttotal: 1.69s\tremaining: 4.71s\n",
      "264:\tlearn: 2151.5830134\ttotal: 1.7s\tremaining: 4.71s\n",
      "265:\tlearn: 2149.0464914\ttotal: 1.7s\tremaining: 4.69s\n",
      "266:\tlearn: 2147.5359061\ttotal: 1.7s\tremaining: 4.68s\n",
      "267:\tlearn: 2146.3308197\ttotal: 1.71s\tremaining: 4.66s\n",
      "268:\tlearn: 2145.4417224\ttotal: 1.71s\tremaining: 4.65s\n",
      "269:\tlearn: 2144.1606641\ttotal: 1.71s\tremaining: 4.64s\n",
      "270:\tlearn: 2143.1041689\ttotal: 1.72s\tremaining: 4.62s\n",
      "271:\tlearn: 2142.0228840\ttotal: 1.72s\tremaining: 4.61s\n",
      "272:\tlearn: 2140.7579055\ttotal: 1.72s\tremaining: 4.59s\n",
      "273:\tlearn: 2139.9703645\ttotal: 1.73s\tremaining: 4.58s\n",
      "274:\tlearn: 2138.6611565\ttotal: 1.73s\tremaining: 4.56s\n",
      "275:\tlearn: 2137.3743962\ttotal: 1.73s\tremaining: 4.55s\n",
      "276:\tlearn: 2135.8850612\ttotal: 1.74s\tremaining: 4.53s\n",
      "277:\tlearn: 2134.9635172\ttotal: 1.74s\tremaining: 4.52s\n",
      "278:\tlearn: 2134.0715751\ttotal: 1.74s\tremaining: 4.5s\n",
      "279:\tlearn: 2132.6918426\ttotal: 1.75s\tremaining: 4.49s\n",
      "280:\tlearn: 2131.7053776\ttotal: 1.75s\tremaining: 4.47s\n",
      "281:\tlearn: 2130.5634643\ttotal: 1.75s\tremaining: 4.46s\n",
      "282:\tlearn: 2129.7497285\ttotal: 1.75s\tremaining: 4.45s\n",
      "283:\tlearn: 2128.8723762\ttotal: 1.76s\tremaining: 4.44s\n",
      "284:\tlearn: 2128.0061464\ttotal: 1.76s\tremaining: 4.42s\n",
      "285:\tlearn: 2126.7847284\ttotal: 1.77s\tremaining: 4.42s\n",
      "286:\tlearn: 2126.2197105\ttotal: 1.77s\tremaining: 4.41s\n",
      "287:\tlearn: 2124.7314048\ttotal: 1.78s\tremaining: 4.39s\n",
      "288:\tlearn: 2123.8764579\ttotal: 1.78s\tremaining: 4.38s\n",
      "289:\tlearn: 2122.5797161\ttotal: 1.79s\tremaining: 4.38s\n",
      "290:\tlearn: 2121.6008389\ttotal: 1.79s\tremaining: 4.37s\n",
      "291:\tlearn: 2120.8535695\ttotal: 1.79s\tremaining: 4.35s\n",
      "292:\tlearn: 2118.5517027\ttotal: 1.8s\tremaining: 4.34s\n",
      "293:\tlearn: 2117.5227596\ttotal: 1.8s\tremaining: 4.33s\n",
      "294:\tlearn: 2116.7036822\ttotal: 1.81s\tremaining: 4.33s\n",
      "295:\tlearn: 2115.6925268\ttotal: 1.83s\tremaining: 4.35s\n",
      "296:\tlearn: 2114.5349153\ttotal: 1.83s\tremaining: 4.34s\n",
      "297:\tlearn: 2112.2510013\ttotal: 1.84s\tremaining: 4.33s\n",
      "298:\tlearn: 2111.6593976\ttotal: 1.84s\tremaining: 4.32s\n",
      "299:\tlearn: 2109.5350682\ttotal: 1.85s\tremaining: 4.31s\n",
      "300:\tlearn: 2108.9808277\ttotal: 1.85s\tremaining: 4.3s\n",
      "301:\tlearn: 2107.4251114\ttotal: 1.86s\tremaining: 4.29s\n",
      "302:\tlearn: 2106.4721089\ttotal: 1.88s\tremaining: 4.33s\n",
      "303:\tlearn: 2105.8730132\ttotal: 1.89s\tremaining: 4.32s\n",
      "304:\tlearn: 2104.4721590\ttotal: 1.89s\tremaining: 4.31s\n",
      "305:\tlearn: 2103.0363627\ttotal: 1.9s\tremaining: 4.3s\n",
      "306:\tlearn: 2101.0022961\ttotal: 1.9s\tremaining: 4.29s\n",
      "307:\tlearn: 2100.7282034\ttotal: 1.91s\tremaining: 4.28s\n",
      "308:\tlearn: 2100.0454390\ttotal: 1.91s\tremaining: 4.27s\n",
      "309:\tlearn: 2097.6203001\ttotal: 1.91s\tremaining: 4.26s\n",
      "310:\tlearn: 2095.7366108\ttotal: 1.92s\tremaining: 4.25s\n",
      "311:\tlearn: 2094.9372607\ttotal: 1.92s\tremaining: 4.23s\n",
      "312:\tlearn: 2094.1646564\ttotal: 1.92s\tremaining: 4.22s\n",
      "313:\tlearn: 2092.3038510\ttotal: 1.93s\tremaining: 4.21s\n",
      "314:\tlearn: 2091.5564866\ttotal: 1.93s\tremaining: 4.19s\n",
      "315:\tlearn: 2089.3629204\ttotal: 1.93s\tremaining: 4.18s\n",
      "316:\tlearn: 2088.6354026\ttotal: 1.94s\tremaining: 4.17s\n",
      "317:\tlearn: 2087.2647423\ttotal: 1.94s\tremaining: 4.16s\n",
      "318:\tlearn: 2085.9450517\ttotal: 1.94s\tremaining: 4.14s\n",
      "319:\tlearn: 2084.7396391\ttotal: 1.94s\tremaining: 4.13s\n",
      "320:\tlearn: 2083.6772777\ttotal: 1.95s\tremaining: 4.12s\n",
      "321:\tlearn: 2082.5976986\ttotal: 1.95s\tremaining: 4.11s\n",
      "322:\tlearn: 2081.9973796\ttotal: 1.95s\tremaining: 4.1s\n",
      "323:\tlearn: 2081.4149593\ttotal: 1.96s\tremaining: 4.08s\n",
      "324:\tlearn: 2080.8497944\ttotal: 1.96s\tremaining: 4.07s\n",
      "325:\tlearn: 2080.2864782\ttotal: 1.96s\tremaining: 4.06s\n",
      "326:\tlearn: 2077.8712273\ttotal: 1.97s\tremaining: 4.05s\n",
      "327:\tlearn: 2077.2111482\ttotal: 1.97s\tremaining: 4.04s\n",
      "328:\tlearn: 2076.6555540\ttotal: 1.97s\tremaining: 4.02s\n",
      "329:\tlearn: 2076.1353825\ttotal: 1.98s\tremaining: 4.01s\n",
      "330:\tlearn: 2074.9614600\ttotal: 1.98s\tremaining: 4s\n",
      "331:\tlearn: 2074.4559600\ttotal: 1.99s\tremaining: 4s\n",
      "332:\tlearn: 2073.6469821\ttotal: 1.99s\tremaining: 3.99s\n",
      "333:\tlearn: 2071.4227487\ttotal: 2s\tremaining: 3.98s\n",
      "334:\tlearn: 2070.9300789\ttotal: 2s\tremaining: 3.97s\n",
      "335:\tlearn: 2069.5582551\ttotal: 2s\tremaining: 3.96s\n",
      "336:\tlearn: 2069.0802609\ttotal: 2.01s\tremaining: 3.95s\n",
      "337:\tlearn: 2068.6159661\ttotal: 2.01s\tremaining: 3.94s\n",
      "338:\tlearn: 2067.0116757\ttotal: 2.02s\tremaining: 3.94s\n",
      "339:\tlearn: 2065.5158574\ttotal: 2.02s\tremaining: 3.93s\n",
      "340:\tlearn: 2064.3603866\ttotal: 2.03s\tremaining: 3.92s\n",
      "341:\tlearn: 2062.7027430\ttotal: 2.04s\tremaining: 3.92s\n",
      "342:\tlearn: 2061.9476782\ttotal: 2.04s\tremaining: 3.91s\n",
      "343:\tlearn: 2059.7408792\ttotal: 2.04s\tremaining: 3.9s\n",
      "344:\tlearn: 2058.0915686\ttotal: 2.05s\tremaining: 3.89s\n",
      "345:\tlearn: 2056.8559885\ttotal: 2.05s\tremaining: 3.88s\n",
      "346:\tlearn: 2055.2083006\ttotal: 2.06s\tremaining: 3.87s\n",
      "347:\tlearn: 2053.2834756\ttotal: 2.06s\tremaining: 3.86s\n",
      "348:\tlearn: 2050.8053454\ttotal: 2.06s\tremaining: 3.85s\n",
      "349:\tlearn: 2050.5691035\ttotal: 2.07s\tremaining: 3.84s\n",
      "350:\tlearn: 2050.3446267\ttotal: 2.07s\tremaining: 3.83s\n",
      "351:\tlearn: 2048.4045835\ttotal: 2.07s\tremaining: 3.82s\n",
      "352:\tlearn: 2047.5067896\ttotal: 2.08s\tremaining: 3.81s\n",
      "353:\tlearn: 2046.2619964\ttotal: 2.08s\tremaining: 3.8s\n",
      "354:\tlearn: 2044.7063751\ttotal: 2.08s\tremaining: 3.79s\n",
      "355:\tlearn: 2044.1503735\ttotal: 2.09s\tremaining: 3.78s\n",
      "356:\tlearn: 2042.7947614\ttotal: 2.09s\tremaining: 3.77s\n",
      "357:\tlearn: 2041.5860174\ttotal: 2.1s\tremaining: 3.77s\n",
      "358:\tlearn: 2041.0476809\ttotal: 2.11s\tremaining: 3.76s\n",
      "359:\tlearn: 2040.6261335\ttotal: 2.11s\tremaining: 3.75s\n",
      "360:\tlearn: 2040.1166099\ttotal: 2.12s\tremaining: 3.75s\n",
      "361:\tlearn: 2038.7920026\ttotal: 2.13s\tremaining: 3.75s\n",
      "362:\tlearn: 2038.3929939\ttotal: 2.13s\tremaining: 3.74s\n",
      "363:\tlearn: 2037.9096287\ttotal: 2.14s\tremaining: 3.73s\n",
      "364:\tlearn: 2036.4425383\ttotal: 2.15s\tremaining: 3.74s\n",
      "365:\tlearn: 2036.0493610\ttotal: 2.15s\tremaining: 3.73s\n",
      "366:\tlearn: 2034.8330890\ttotal: 2.16s\tremaining: 3.73s\n",
      "367:\tlearn: 2033.3956134\ttotal: 2.17s\tremaining: 3.72s\n",
      "368:\tlearn: 2032.7307550\ttotal: 2.17s\tremaining: 3.72s\n",
      "369:\tlearn: 2031.4697213\ttotal: 2.18s\tremaining: 3.71s\n",
      "370:\tlearn: 2031.1143555\ttotal: 2.19s\tremaining: 3.71s\n",
      "371:\tlearn: 2029.9393117\ttotal: 2.2s\tremaining: 3.71s\n",
      "372:\tlearn: 2028.7770258\ttotal: 2.21s\tremaining: 3.71s\n",
      "373:\tlearn: 2027.7037971\ttotal: 2.21s\tremaining: 3.7s\n",
      "374:\tlearn: 2025.4839062\ttotal: 2.21s\tremaining: 3.69s\n",
      "375:\tlearn: 2025.1369689\ttotal: 2.22s\tremaining: 3.69s\n",
      "376:\tlearn: 2023.9348587\ttotal: 2.23s\tremaining: 3.68s\n",
      "377:\tlearn: 2023.4023624\ttotal: 2.23s\tremaining: 3.68s\n",
      "378:\tlearn: 2021.8620055\ttotal: 2.24s\tremaining: 3.67s\n",
      "379:\tlearn: 2020.8633288\ttotal: 2.25s\tremaining: 3.66s\n",
      "380:\tlearn: 2020.2003201\ttotal: 2.25s\tremaining: 3.66s\n",
      "381:\tlearn: 2018.1603093\ttotal: 2.27s\tremaining: 3.68s\n",
      "382:\tlearn: 2017.2940525\ttotal: 2.28s\tremaining: 3.68s\n",
      "383:\tlearn: 2016.8657639\ttotal: 2.29s\tremaining: 3.67s\n",
      "384:\tlearn: 2016.1238903\ttotal: 2.29s\tremaining: 3.66s\n",
      "385:\tlearn: 2015.7933068\ttotal: 2.3s\tremaining: 3.67s\n",
      "386:\tlearn: 2014.6385889\ttotal: 2.31s\tremaining: 3.66s\n",
      "387:\tlearn: 2013.3406537\ttotal: 2.32s\tremaining: 3.65s\n",
      "388:\tlearn: 2012.8891128\ttotal: 2.32s\tremaining: 3.65s\n",
      "389:\tlearn: 2012.1812744\ttotal: 2.33s\tremaining: 3.65s\n",
      "390:\tlearn: 2011.8654485\ttotal: 2.35s\tremaining: 3.65s\n",
      "391:\tlearn: 2010.4416223\ttotal: 2.35s\tremaining: 3.64s\n",
      "392:\tlearn: 2008.5718835\ttotal: 2.35s\tremaining: 3.64s\n",
      "393:\tlearn: 2007.4997402\ttotal: 2.36s\tremaining: 3.63s\n",
      "394:\tlearn: 2006.4708696\ttotal: 2.37s\tremaining: 3.63s\n",
      "395:\tlearn: 2005.6660649\ttotal: 2.37s\tremaining: 3.62s\n",
      "396:\tlearn: 2004.7947750\ttotal: 2.38s\tremaining: 3.61s\n",
      "397:\tlearn: 2004.1396093\ttotal: 2.39s\tremaining: 3.61s\n",
      "398:\tlearn: 2003.4732692\ttotal: 2.39s\tremaining: 3.6s\n",
      "399:\tlearn: 2002.5592722\ttotal: 2.4s\tremaining: 3.59s\n",
      "400:\tlearn: 2002.2359677\ttotal: 2.41s\tremaining: 3.6s\n",
      "401:\tlearn: 2001.9322722\ttotal: 2.42s\tremaining: 3.6s\n",
      "402:\tlearn: 2001.5188270\ttotal: 2.43s\tremaining: 3.6s\n",
      "403:\tlearn: 2000.1167414\ttotal: 2.44s\tremaining: 3.59s\n",
      "404:\tlearn: 1998.2834874\ttotal: 2.44s\tremaining: 3.59s\n",
      "405:\tlearn: 1997.2831637\ttotal: 2.45s\tremaining: 3.58s\n",
      "406:\tlearn: 1996.1663113\ttotal: 2.46s\tremaining: 3.58s\n",
      "407:\tlearn: 1995.6357244\ttotal: 2.46s\tremaining: 3.58s\n",
      "408:\tlearn: 1994.6222362\ttotal: 2.47s\tremaining: 3.57s\n",
      "409:\tlearn: 1993.6462070\ttotal: 2.47s\tremaining: 3.56s\n",
      "410:\tlearn: 1992.8039711\ttotal: 2.48s\tremaining: 3.55s\n",
      "411:\tlearn: 1992.0822134\ttotal: 2.48s\tremaining: 3.54s\n",
      "412:\tlearn: 1989.9577789\ttotal: 2.5s\tremaining: 3.55s\n",
      "413:\tlearn: 1989.3442026\ttotal: 2.5s\tremaining: 3.54s\n",
      "414:\tlearn: 1988.4758731\ttotal: 2.51s\tremaining: 3.53s\n",
      "415:\tlearn: 1987.1778454\ttotal: 2.51s\tremaining: 3.52s\n",
      "416:\tlearn: 1986.8965915\ttotal: 2.52s\tremaining: 3.52s\n",
      "417:\tlearn: 1986.6230315\ttotal: 2.52s\tremaining: 3.51s\n",
      "418:\tlearn: 1985.9879980\ttotal: 2.52s\tremaining: 3.5s\n",
      "419:\tlearn: 1984.9759176\ttotal: 2.53s\tremaining: 3.49s\n",
      "420:\tlearn: 1984.1911066\ttotal: 2.54s\tremaining: 3.49s\n",
      "421:\tlearn: 1982.3220252\ttotal: 2.54s\tremaining: 3.48s\n",
      "422:\tlearn: 1980.7837979\ttotal: 2.54s\tremaining: 3.47s\n",
      "423:\tlearn: 1980.0630483\ttotal: 2.55s\tremaining: 3.46s\n",
      "424:\tlearn: 1978.9988403\ttotal: 2.56s\tremaining: 3.46s\n",
      "425:\tlearn: 1978.5198362\ttotal: 2.57s\tremaining: 3.46s\n",
      "426:\tlearn: 1977.3936973\ttotal: 2.58s\tremaining: 3.47s\n",
      "427:\tlearn: 1976.1965019\ttotal: 2.59s\tremaining: 3.47s\n",
      "428:\tlearn: 1975.6081317\ttotal: 2.6s\tremaining: 3.46s\n",
      "429:\tlearn: 1974.9972393\ttotal: 2.62s\tremaining: 3.47s\n",
      "430:\tlearn: 1973.9508504\ttotal: 2.63s\tremaining: 3.47s\n",
      "431:\tlearn: 1972.5009311\ttotal: 2.65s\tremaining: 3.48s\n",
      "432:\tlearn: 1972.1311763\ttotal: 2.65s\tremaining: 3.48s\n",
      "433:\tlearn: 1971.1992763\ttotal: 2.66s\tremaining: 3.47s\n",
      "434:\tlearn: 1970.7687972\ttotal: 2.71s\tremaining: 3.52s\n",
      "435:\tlearn: 1970.4078856\ttotal: 2.72s\tremaining: 3.52s\n",
      "436:\tlearn: 1969.6513296\ttotal: 2.73s\tremaining: 3.51s\n",
      "437:\tlearn: 1969.1968527\ttotal: 2.73s\tremaining: 3.5s\n",
      "438:\tlearn: 1968.2877657\ttotal: 2.74s\tremaining: 3.5s\n",
      "439:\tlearn: 1967.3631098\ttotal: 2.74s\tremaining: 3.49s\n",
      "440:\tlearn: 1966.9443091\ttotal: 2.77s\tremaining: 3.51s\n",
      "441:\tlearn: 1965.9224678\ttotal: 2.77s\tremaining: 3.5s\n",
      "442:\tlearn: 1964.6257476\ttotal: 2.78s\tremaining: 3.49s\n",
      "443:\tlearn: 1963.9642974\ttotal: 2.79s\tremaining: 3.49s\n",
      "444:\tlearn: 1962.7818941\ttotal: 2.79s\tremaining: 3.48s\n",
      "445:\tlearn: 1962.4400414\ttotal: 2.8s\tremaining: 3.47s\n",
      "446:\tlearn: 1962.0114924\ttotal: 2.81s\tremaining: 3.48s\n",
      "447:\tlearn: 1960.7237085\ttotal: 2.82s\tremaining: 3.47s\n",
      "448:\tlearn: 1959.3941891\ttotal: 2.83s\tremaining: 3.47s\n",
      "449:\tlearn: 1958.9856404\ttotal: 2.83s\tremaining: 3.46s\n",
      "450:\tlearn: 1957.7758057\ttotal: 2.84s\tremaining: 3.46s\n",
      "451:\tlearn: 1957.1794760\ttotal: 2.85s\tremaining: 3.45s\n",
      "452:\tlearn: 1956.7888220\ttotal: 2.86s\tremaining: 3.45s\n",
      "453:\tlearn: 1955.5585731\ttotal: 2.86s\tremaining: 3.44s\n",
      "454:\tlearn: 1954.8803669\ttotal: 2.87s\tremaining: 3.44s\n",
      "455:\tlearn: 1954.0866011\ttotal: 2.87s\tremaining: 3.43s\n",
      "456:\tlearn: 1953.0256937\ttotal: 2.93s\tremaining: 3.48s\n",
      "457:\tlearn: 1951.8442222\ttotal: 2.94s\tremaining: 3.48s\n",
      "458:\tlearn: 1950.7147691\ttotal: 2.95s\tremaining: 3.47s\n",
      "459:\tlearn: 1949.5958304\ttotal: 2.95s\tremaining: 3.46s\n",
      "460:\tlearn: 1949.1113264\ttotal: 2.96s\tremaining: 3.46s\n",
      "461:\tlearn: 1948.0341959\ttotal: 2.97s\tremaining: 3.46s\n",
      "462:\tlearn: 1946.9209524\ttotal: 3.01s\tremaining: 3.49s\n",
      "463:\tlearn: 1946.6624847\ttotal: 3.02s\tremaining: 3.48s\n",
      "464:\tlearn: 1946.2765611\ttotal: 3.02s\tremaining: 3.48s\n",
      "465:\tlearn: 1946.0332428\ttotal: 3.03s\tremaining: 3.47s\n",
      "466:\tlearn: 1945.6719998\ttotal: 3.04s\tremaining: 3.47s\n",
      "467:\tlearn: 1944.7833170\ttotal: 3.05s\tremaining: 3.46s\n",
      "468:\tlearn: 1944.2075785\ttotal: 3.06s\tremaining: 3.47s\n",
      "469:\tlearn: 1943.3371666\ttotal: 3.07s\tremaining: 3.46s\n",
      "470:\tlearn: 1943.1039717\ttotal: 3.08s\tremaining: 3.46s\n",
      "471:\tlearn: 1942.7914856\ttotal: 3.08s\tremaining: 3.45s\n",
      "472:\tlearn: 1942.4145079\ttotal: 3.09s\tremaining: 3.44s\n",
      "473:\tlearn: 1940.7919898\ttotal: 3.09s\tremaining: 3.43s\n",
      "474:\tlearn: 1938.5911324\ttotal: 3.1s\tremaining: 3.43s\n",
      "475:\tlearn: 1938.3544931\ttotal: 3.1s\tremaining: 3.42s\n",
      "476:\tlearn: 1937.0641802\ttotal: 3.12s\tremaining: 3.42s\n",
      "477:\tlearn: 1936.0141662\ttotal: 3.12s\tremaining: 3.41s\n",
      "478:\tlearn: 1935.1207749\ttotal: 3.13s\tremaining: 3.4s\n",
      "479:\tlearn: 1934.3477320\ttotal: 3.18s\tremaining: 3.44s\n",
      "480:\tlearn: 1932.8070169\ttotal: 3.19s\tremaining: 3.44s\n",
      "481:\tlearn: 1931.5416679\ttotal: 3.19s\tremaining: 3.43s\n",
      "482:\tlearn: 1930.4905684\ttotal: 3.2s\tremaining: 3.42s\n",
      "483:\tlearn: 1929.0834854\ttotal: 3.2s\tremaining: 3.42s\n",
      "484:\tlearn: 1928.0718818\ttotal: 3.21s\tremaining: 3.41s\n",
      "485:\tlearn: 1927.2003516\ttotal: 3.25s\tremaining: 3.43s\n",
      "486:\tlearn: 1926.5118213\ttotal: 3.25s\tremaining: 3.42s\n",
      "487:\tlearn: 1925.3497678\ttotal: 3.26s\tremaining: 3.42s\n",
      "488:\tlearn: 1925.0358137\ttotal: 3.26s\tremaining: 3.41s\n",
      "489:\tlearn: 1924.1197016\ttotal: 3.27s\tremaining: 3.4s\n",
      "490:\tlearn: 1923.5666587\ttotal: 3.27s\tremaining: 3.39s\n",
      "491:\tlearn: 1922.1825537\ttotal: 3.28s\tremaining: 3.38s\n",
      "492:\tlearn: 1921.2018785\ttotal: 3.29s\tremaining: 3.38s\n",
      "493:\tlearn: 1920.6819328\ttotal: 3.3s\tremaining: 3.38s\n",
      "494:\tlearn: 1919.8334807\ttotal: 3.31s\tremaining: 3.38s\n",
      "495:\tlearn: 1919.1641481\ttotal: 3.32s\tremaining: 3.37s\n",
      "496:\tlearn: 1918.2332757\ttotal: 3.32s\tremaining: 3.36s\n",
      "497:\tlearn: 1917.2677166\ttotal: 3.33s\tremaining: 3.36s\n",
      "498:\tlearn: 1916.9893609\ttotal: 3.34s\tremaining: 3.35s\n",
      "499:\tlearn: 1916.7242913\ttotal: 3.34s\tremaining: 3.34s\n",
      "500:\tlearn: 1915.5024244\ttotal: 3.35s\tremaining: 3.33s\n",
      "501:\tlearn: 1914.3304359\ttotal: 3.35s\tremaining: 3.32s\n",
      "502:\tlearn: 1913.7157108\ttotal: 3.35s\tremaining: 3.31s\n",
      "503:\tlearn: 1913.4130545\ttotal: 3.36s\tremaining: 3.31s\n",
      "504:\tlearn: 1912.9203358\ttotal: 3.36s\tremaining: 3.3s\n",
      "505:\tlearn: 1912.2984729\ttotal: 3.37s\tremaining: 3.29s\n",
      "506:\tlearn: 1911.9023586\ttotal: 3.37s\tremaining: 3.28s\n",
      "507:\tlearn: 1911.3012302\ttotal: 3.38s\tremaining: 3.27s\n",
      "508:\tlearn: 1910.9413762\ttotal: 3.38s\tremaining: 3.26s\n",
      "509:\tlearn: 1910.3054945\ttotal: 3.39s\tremaining: 3.25s\n",
      "510:\tlearn: 1910.0956150\ttotal: 3.39s\tremaining: 3.25s\n",
      "511:\tlearn: 1909.2842562\ttotal: 3.4s\tremaining: 3.24s\n",
      "512:\tlearn: 1908.6139795\ttotal: 3.4s\tremaining: 3.23s\n",
      "513:\tlearn: 1908.2489270\ttotal: 3.41s\tremaining: 3.22s\n",
      "514:\tlearn: 1906.8628086\ttotal: 3.41s\tremaining: 3.21s\n",
      "515:\tlearn: 1906.2422931\ttotal: 3.42s\tremaining: 3.21s\n",
      "516:\tlearn: 1905.5714931\ttotal: 3.43s\tremaining: 3.21s\n",
      "517:\tlearn: 1904.7805474\ttotal: 3.44s\tremaining: 3.2s\n",
      "518:\tlearn: 1904.2062304\ttotal: 3.44s\tremaining: 3.19s\n",
      "519:\tlearn: 1903.4374913\ttotal: 3.45s\tremaining: 3.19s\n",
      "520:\tlearn: 1901.8410787\ttotal: 3.46s\tremaining: 3.18s\n",
      "521:\tlearn: 1901.0494083\ttotal: 3.46s\tremaining: 3.17s\n",
      "522:\tlearn: 1900.6971437\ttotal: 3.47s\tremaining: 3.16s\n",
      "523:\tlearn: 1899.7049508\ttotal: 3.47s\tremaining: 3.15s\n",
      "524:\tlearn: 1898.5186369\ttotal: 3.48s\tremaining: 3.15s\n",
      "525:\tlearn: 1898.1628643\ttotal: 3.48s\tremaining: 3.14s\n",
      "526:\tlearn: 1897.4421577\ttotal: 3.49s\tremaining: 3.13s\n",
      "527:\tlearn: 1896.1173066\ttotal: 3.5s\tremaining: 3.12s\n",
      "528:\tlearn: 1895.2390278\ttotal: 3.5s\tremaining: 3.12s\n",
      "529:\tlearn: 1894.8068685\ttotal: 3.5s\tremaining: 3.11s\n",
      "530:\tlearn: 1893.6280458\ttotal: 3.51s\tremaining: 3.1s\n",
      "531:\tlearn: 1893.0042865\ttotal: 3.52s\tremaining: 3.1s\n",
      "532:\tlearn: 1892.5203233\ttotal: 3.53s\tremaining: 3.09s\n",
      "533:\tlearn: 1891.6070531\ttotal: 3.53s\tremaining: 3.08s\n",
      "534:\tlearn: 1891.0229772\ttotal: 3.54s\tremaining: 3.07s\n",
      "535:\tlearn: 1890.2491975\ttotal: 3.54s\tremaining: 3.06s\n",
      "536:\tlearn: 1889.4990120\ttotal: 3.55s\tremaining: 3.06s\n",
      "537:\tlearn: 1889.1400205\ttotal: 3.55s\tremaining: 3.05s\n",
      "538:\tlearn: 1888.5369340\ttotal: 3.56s\tremaining: 3.05s\n",
      "539:\tlearn: 1887.9342495\ttotal: 3.57s\tremaining: 3.04s\n",
      "540:\tlearn: 1887.0343277\ttotal: 3.57s\tremaining: 3.03s\n",
      "541:\tlearn: 1886.2554643\ttotal: 3.58s\tremaining: 3.02s\n",
      "542:\tlearn: 1885.6005483\ttotal: 3.58s\tremaining: 3.01s\n",
      "543:\tlearn: 1884.7832182\ttotal: 3.58s\tremaining: 3s\n",
      "544:\tlearn: 1883.9974781\ttotal: 3.59s\tremaining: 3s\n",
      "545:\tlearn: 1883.4452189\ttotal: 3.6s\tremaining: 2.99s\n",
      "546:\tlearn: 1882.7278582\ttotal: 3.6s\tremaining: 2.98s\n",
      "547:\tlearn: 1882.1660657\ttotal: 3.6s\tremaining: 2.97s\n",
      "548:\tlearn: 1881.4687553\ttotal: 3.61s\tremaining: 2.96s\n",
      "549:\tlearn: 1880.7251414\ttotal: 3.62s\tremaining: 2.96s\n",
      "550:\tlearn: 1880.0100265\ttotal: 3.62s\tremaining: 2.95s\n",
      "551:\tlearn: 1879.5483239\ttotal: 3.63s\tremaining: 2.94s\n",
      "552:\tlearn: 1878.6207156\ttotal: 3.63s\tremaining: 2.94s\n",
      "553:\tlearn: 1877.9476240\ttotal: 3.64s\tremaining: 2.93s\n",
      "554:\tlearn: 1877.6270485\ttotal: 3.64s\tremaining: 2.92s\n",
      "555:\tlearn: 1875.4490970\ttotal: 3.65s\tremaining: 2.91s\n",
      "556:\tlearn: 1873.6027108\ttotal: 3.65s\tremaining: 2.9s\n",
      "557:\tlearn: 1872.8428923\ttotal: 3.66s\tremaining: 2.9s\n",
      "558:\tlearn: 1872.4398245\ttotal: 3.66s\tremaining: 2.89s\n",
      "559:\tlearn: 1871.9342606\ttotal: 3.67s\tremaining: 2.88s\n",
      "560:\tlearn: 1871.3078455\ttotal: 3.67s\tremaining: 2.87s\n",
      "561:\tlearn: 1870.1918942\ttotal: 3.67s\tremaining: 2.86s\n",
      "562:\tlearn: 1869.2077277\ttotal: 3.68s\tremaining: 2.86s\n",
      "563:\tlearn: 1868.5735332\ttotal: 3.69s\tremaining: 2.85s\n",
      "564:\tlearn: 1868.0870364\ttotal: 3.69s\tremaining: 2.84s\n",
      "565:\tlearn: 1867.3429873\ttotal: 3.69s\tremaining: 2.83s\n",
      "566:\tlearn: 1866.9121648\ttotal: 3.7s\tremaining: 2.83s\n",
      "567:\tlearn: 1866.3718684\ttotal: 3.71s\tremaining: 2.82s\n",
      "568:\tlearn: 1865.3471169\ttotal: 3.71s\tremaining: 2.81s\n",
      "569:\tlearn: 1864.7730814\ttotal: 3.71s\tremaining: 2.8s\n",
      "570:\tlearn: 1863.3366513\ttotal: 3.73s\tremaining: 2.8s\n",
      "571:\tlearn: 1862.6160903\ttotal: 3.73s\tremaining: 2.79s\n",
      "572:\tlearn: 1862.1454403\ttotal: 3.74s\tremaining: 2.79s\n",
      "573:\tlearn: 1861.5454450\ttotal: 3.74s\tremaining: 2.78s\n",
      "574:\tlearn: 1860.9594288\ttotal: 3.75s\tremaining: 2.77s\n",
      "575:\tlearn: 1860.7445259\ttotal: 3.75s\tremaining: 2.76s\n",
      "576:\tlearn: 1859.9365963\ttotal: 3.75s\tremaining: 2.75s\n",
      "577:\tlearn: 1858.9925887\ttotal: 3.79s\tremaining: 2.77s\n",
      "578:\tlearn: 1858.4352900\ttotal: 3.8s\tremaining: 2.76s\n",
      "579:\tlearn: 1858.0044555\ttotal: 3.8s\tremaining: 2.75s\n",
      "580:\tlearn: 1857.5481998\ttotal: 3.81s\tremaining: 2.75s\n",
      "581:\tlearn: 1857.0804373\ttotal: 3.81s\tremaining: 2.74s\n",
      "582:\tlearn: 1856.2810031\ttotal: 3.82s\tremaining: 2.73s\n",
      "583:\tlearn: 1855.8400140\ttotal: 3.82s\tremaining: 2.72s\n",
      "584:\tlearn: 1855.7313116\ttotal: 3.83s\tremaining: 2.71s\n",
      "585:\tlearn: 1854.9833756\ttotal: 3.83s\tremaining: 2.71s\n",
      "586:\tlearn: 1854.1480777\ttotal: 3.84s\tremaining: 2.7s\n",
      "587:\tlearn: 1853.7771766\ttotal: 3.84s\tremaining: 2.69s\n",
      "588:\tlearn: 1853.0512621\ttotal: 3.85s\tremaining: 2.68s\n",
      "589:\tlearn: 1852.6591680\ttotal: 3.85s\tremaining: 2.68s\n",
      "590:\tlearn: 1851.2082629\ttotal: 3.85s\tremaining: 2.67s\n",
      "591:\tlearn: 1850.7938147\ttotal: 3.86s\tremaining: 2.66s\n",
      "592:\tlearn: 1850.4157771\ttotal: 3.86s\tremaining: 2.65s\n",
      "593:\tlearn: 1850.0294789\ttotal: 3.87s\tremaining: 2.64s\n",
      "594:\tlearn: 1849.5094651\ttotal: 3.87s\tremaining: 2.63s\n",
      "595:\tlearn: 1848.8126276\ttotal: 3.88s\tremaining: 2.63s\n",
      "596:\tlearn: 1848.4306419\ttotal: 3.88s\tremaining: 2.62s\n",
      "597:\tlearn: 1846.7161350\ttotal: 3.88s\tremaining: 2.61s\n",
      "598:\tlearn: 1846.1441316\ttotal: 3.88s\tremaining: 2.6s\n",
      "599:\tlearn: 1845.7151234\ttotal: 3.89s\tremaining: 2.59s\n",
      "600:\tlearn: 1845.0070936\ttotal: 3.89s\tremaining: 2.58s\n",
      "601:\tlearn: 1844.8015547\ttotal: 3.9s\tremaining: 2.58s\n",
      "602:\tlearn: 1844.1396190\ttotal: 3.9s\tremaining: 2.57s\n",
      "603:\tlearn: 1843.3967092\ttotal: 3.91s\tremaining: 2.56s\n",
      "604:\tlearn: 1842.4924385\ttotal: 3.91s\tremaining: 2.55s\n",
      "605:\tlearn: 1841.6216802\ttotal: 3.92s\tremaining: 2.55s\n",
      "606:\tlearn: 1840.8540485\ttotal: 3.92s\tremaining: 2.54s\n",
      "607:\tlearn: 1839.9779719\ttotal: 3.93s\tremaining: 2.53s\n",
      "608:\tlearn: 1838.3858469\ttotal: 3.93s\tremaining: 2.52s\n",
      "609:\tlearn: 1837.7236509\ttotal: 3.94s\tremaining: 2.52s\n",
      "610:\tlearn: 1836.9770946\ttotal: 3.94s\tremaining: 2.51s\n",
      "611:\tlearn: 1835.4960558\ttotal: 3.95s\tremaining: 2.5s\n",
      "612:\tlearn: 1834.8178593\ttotal: 3.96s\tremaining: 2.5s\n",
      "613:\tlearn: 1834.3194496\ttotal: 3.96s\tremaining: 2.49s\n",
      "614:\tlearn: 1833.5297825\ttotal: 3.96s\tremaining: 2.48s\n",
      "615:\tlearn: 1832.9785274\ttotal: 3.97s\tremaining: 2.47s\n",
      "616:\tlearn: 1832.3422727\ttotal: 3.97s\tremaining: 2.47s\n",
      "617:\tlearn: 1830.9393047\ttotal: 3.98s\tremaining: 2.46s\n",
      "618:\tlearn: 1830.4467662\ttotal: 3.99s\tremaining: 2.45s\n",
      "619:\tlearn: 1829.7974936\ttotal: 3.99s\tremaining: 2.45s\n",
      "620:\tlearn: 1829.1394241\ttotal: 4s\tremaining: 2.44s\n",
      "621:\tlearn: 1828.8471023\ttotal: 4s\tremaining: 2.43s\n",
      "622:\tlearn: 1828.2318132\ttotal: 4s\tremaining: 2.42s\n",
      "623:\tlearn: 1827.9733112\ttotal: 4.01s\tremaining: 2.42s\n",
      "624:\tlearn: 1827.6803477\ttotal: 4.01s\tremaining: 2.41s\n",
      "625:\tlearn: 1826.1241867\ttotal: 4.02s\tremaining: 2.4s\n",
      "626:\tlearn: 1825.7863861\ttotal: 4.03s\tremaining: 2.4s\n",
      "627:\tlearn: 1825.3984686\ttotal: 4.03s\tremaining: 2.39s\n",
      "628:\tlearn: 1824.8690862\ttotal: 4.04s\tremaining: 2.38s\n",
      "629:\tlearn: 1824.2540461\ttotal: 4.04s\tremaining: 2.37s\n",
      "630:\tlearn: 1823.1258604\ttotal: 4.05s\tremaining: 2.37s\n",
      "631:\tlearn: 1822.4844957\ttotal: 4.05s\tremaining: 2.36s\n",
      "632:\tlearn: 1821.4787728\ttotal: 4.06s\tremaining: 2.35s\n",
      "633:\tlearn: 1819.6610127\ttotal: 4.06s\tremaining: 2.35s\n",
      "634:\tlearn: 1819.2587677\ttotal: 4.07s\tremaining: 2.34s\n",
      "635:\tlearn: 1817.3997051\ttotal: 4.08s\tremaining: 2.33s\n",
      "636:\tlearn: 1816.8168452\ttotal: 4.08s\tremaining: 2.33s\n",
      "637:\tlearn: 1816.1258823\ttotal: 4.08s\tremaining: 2.32s\n",
      "638:\tlearn: 1814.3263265\ttotal: 4.09s\tremaining: 2.31s\n",
      "639:\tlearn: 1812.1224628\ttotal: 4.1s\tremaining: 2.3s\n",
      "640:\tlearn: 1811.2114639\ttotal: 4.12s\tremaining: 2.31s\n",
      "641:\tlearn: 1810.1367640\ttotal: 4.12s\tremaining: 2.3s\n",
      "642:\tlearn: 1809.2528879\ttotal: 4.13s\tremaining: 2.29s\n",
      "643:\tlearn: 1808.7567472\ttotal: 4.13s\tremaining: 2.28s\n",
      "644:\tlearn: 1808.3598284\ttotal: 4.14s\tremaining: 2.28s\n",
      "645:\tlearn: 1807.6361920\ttotal: 4.14s\tremaining: 2.27s\n",
      "646:\tlearn: 1805.9220588\ttotal: 4.15s\tremaining: 2.26s\n",
      "647:\tlearn: 1804.2861032\ttotal: 4.15s\tremaining: 2.25s\n",
      "648:\tlearn: 1803.3344050\ttotal: 4.16s\tremaining: 2.25s\n",
      "649:\tlearn: 1803.0060781\ttotal: 4.16s\tremaining: 2.24s\n",
      "650:\tlearn: 1802.2178231\ttotal: 4.17s\tremaining: 2.23s\n",
      "651:\tlearn: 1801.8243588\ttotal: 4.17s\tremaining: 2.23s\n",
      "652:\tlearn: 1801.0287121\ttotal: 4.18s\tremaining: 2.22s\n",
      "653:\tlearn: 1800.6561362\ttotal: 4.18s\tremaining: 2.21s\n",
      "654:\tlearn: 1799.7151550\ttotal: 4.18s\tremaining: 2.2s\n",
      "655:\tlearn: 1799.1379980\ttotal: 4.19s\tremaining: 2.2s\n",
      "656:\tlearn: 1798.2405045\ttotal: 4.19s\tremaining: 2.19s\n",
      "657:\tlearn: 1796.8117071\ttotal: 4.23s\tremaining: 2.2s\n",
      "658:\tlearn: 1796.1946118\ttotal: 4.24s\tremaining: 2.19s\n",
      "659:\tlearn: 1795.8075371\ttotal: 4.24s\tremaining: 2.18s\n",
      "660:\tlearn: 1794.8124186\ttotal: 4.25s\tremaining: 2.18s\n",
      "661:\tlearn: 1793.2431638\ttotal: 4.25s\tremaining: 2.17s\n",
      "662:\tlearn: 1791.7445753\ttotal: 4.26s\tremaining: 2.17s\n",
      "663:\tlearn: 1790.9169876\ttotal: 4.26s\tremaining: 2.16s\n",
      "664:\tlearn: 1790.5592753\ttotal: 4.27s\tremaining: 2.15s\n",
      "665:\tlearn: 1789.2950517\ttotal: 4.27s\tremaining: 2.14s\n",
      "666:\tlearn: 1788.0385663\ttotal: 4.27s\tremaining: 2.13s\n",
      "667:\tlearn: 1786.3787241\ttotal: 4.28s\tremaining: 2.13s\n",
      "668:\tlearn: 1785.0425548\ttotal: 4.28s\tremaining: 2.12s\n",
      "669:\tlearn: 1784.3015111\ttotal: 4.28s\tremaining: 2.11s\n",
      "670:\tlearn: 1784.0074917\ttotal: 4.29s\tremaining: 2.1s\n",
      "671:\tlearn: 1783.2911434\ttotal: 4.29s\tremaining: 2.09s\n",
      "672:\tlearn: 1782.5950868\ttotal: 4.3s\tremaining: 2.09s\n",
      "673:\tlearn: 1781.3071501\ttotal: 4.3s\tremaining: 2.08s\n",
      "674:\tlearn: 1780.7051843\ttotal: 4.3s\tremaining: 2.07s\n",
      "675:\tlearn: 1780.0617858\ttotal: 4.31s\tremaining: 2.06s\n",
      "676:\tlearn: 1778.6743677\ttotal: 4.31s\tremaining: 2.06s\n",
      "677:\tlearn: 1777.7180232\ttotal: 4.31s\tremaining: 2.05s\n",
      "678:\tlearn: 1777.0745639\ttotal: 4.32s\tremaining: 2.04s\n",
      "679:\tlearn: 1776.2958771\ttotal: 4.32s\tremaining: 2.03s\n",
      "680:\tlearn: 1775.7296853\ttotal: 4.32s\tremaining: 2.02s\n",
      "681:\tlearn: 1774.5063998\ttotal: 4.33s\tremaining: 2.02s\n",
      "682:\tlearn: 1773.1699774\ttotal: 4.33s\tremaining: 2.01s\n",
      "683:\tlearn: 1771.6513010\ttotal: 4.33s\tremaining: 2s\n",
      "684:\tlearn: 1771.0610062\ttotal: 4.34s\tremaining: 1.99s\n",
      "685:\tlearn: 1770.4524353\ttotal: 4.34s\tremaining: 1.99s\n",
      "686:\tlearn: 1769.1185344\ttotal: 4.34s\tremaining: 1.98s\n",
      "687:\tlearn: 1768.4633435\ttotal: 4.34s\tremaining: 1.97s\n",
      "688:\tlearn: 1767.3333492\ttotal: 4.35s\tremaining: 1.96s\n",
      "689:\tlearn: 1766.4766120\ttotal: 4.36s\tremaining: 1.96s\n",
      "690:\tlearn: 1765.9451399\ttotal: 4.36s\tremaining: 1.95s\n",
      "691:\tlearn: 1764.9923385\ttotal: 4.37s\tremaining: 1.94s\n",
      "692:\tlearn: 1764.4243271\ttotal: 4.37s\tremaining: 1.94s\n",
      "693:\tlearn: 1763.7298854\ttotal: 4.38s\tremaining: 1.93s\n",
      "694:\tlearn: 1763.1828278\ttotal: 4.38s\tremaining: 1.92s\n",
      "695:\tlearn: 1762.8576388\ttotal: 4.38s\tremaining: 1.91s\n",
      "696:\tlearn: 1761.8922032\ttotal: 4.39s\tremaining: 1.91s\n",
      "697:\tlearn: 1761.3342660\ttotal: 4.39s\tremaining: 1.9s\n",
      "698:\tlearn: 1760.4515318\ttotal: 4.4s\tremaining: 1.89s\n",
      "699:\tlearn: 1759.3431597\ttotal: 4.4s\tremaining: 1.89s\n",
      "700:\tlearn: 1758.6443290\ttotal: 4.41s\tremaining: 1.88s\n",
      "701:\tlearn: 1757.7283307\ttotal: 4.41s\tremaining: 1.87s\n",
      "702:\tlearn: 1756.5054844\ttotal: 4.42s\tremaining: 1.87s\n",
      "703:\tlearn: 1756.2653343\ttotal: 4.43s\tremaining: 1.86s\n",
      "704:\tlearn: 1755.6483491\ttotal: 4.43s\tremaining: 1.85s\n",
      "705:\tlearn: 1754.7830766\ttotal: 4.44s\tremaining: 1.85s\n",
      "706:\tlearn: 1754.5028278\ttotal: 4.44s\tremaining: 1.84s\n",
      "707:\tlearn: 1754.0478403\ttotal: 4.44s\tremaining: 1.83s\n",
      "708:\tlearn: 1753.7621394\ttotal: 4.45s\tremaining: 1.82s\n",
      "709:\tlearn: 1752.5901687\ttotal: 4.45s\tremaining: 1.82s\n",
      "710:\tlearn: 1751.7149550\ttotal: 4.45s\tremaining: 1.81s\n",
      "711:\tlearn: 1751.1832966\ttotal: 4.46s\tremaining: 1.8s\n",
      "712:\tlearn: 1750.1564425\ttotal: 4.46s\tremaining: 1.8s\n",
      "713:\tlearn: 1749.3657299\ttotal: 4.47s\tremaining: 1.79s\n",
      "714:\tlearn: 1749.1460895\ttotal: 4.47s\tremaining: 1.78s\n",
      "715:\tlearn: 1748.3196427\ttotal: 4.48s\tremaining: 1.78s\n",
      "716:\tlearn: 1747.8040381\ttotal: 4.48s\tremaining: 1.77s\n",
      "717:\tlearn: 1747.1998279\ttotal: 4.49s\tremaining: 1.76s\n",
      "718:\tlearn: 1746.4905083\ttotal: 4.49s\tremaining: 1.75s\n",
      "719:\tlearn: 1746.2688430\ttotal: 4.5s\tremaining: 1.75s\n",
      "720:\tlearn: 1744.9746651\ttotal: 4.5s\tremaining: 1.74s\n",
      "721:\tlearn: 1744.0104452\ttotal: 4.5s\tremaining: 1.73s\n",
      "722:\tlearn: 1743.0494625\ttotal: 4.51s\tremaining: 1.73s\n",
      "723:\tlearn: 1742.6683863\ttotal: 4.51s\tremaining: 1.72s\n",
      "724:\tlearn: 1742.3530925\ttotal: 4.55s\tremaining: 1.73s\n",
      "725:\tlearn: 1741.7847139\ttotal: 4.56s\tremaining: 1.72s\n",
      "726:\tlearn: 1741.3150141\ttotal: 4.56s\tremaining: 1.71s\n",
      "727:\tlearn: 1740.2162726\ttotal: 4.58s\tremaining: 1.71s\n",
      "728:\tlearn: 1739.3916760\ttotal: 4.58s\tremaining: 1.7s\n",
      "729:\tlearn: 1739.0855376\ttotal: 4.58s\tremaining: 1.69s\n",
      "730:\tlearn: 1738.9068132\ttotal: 4.58s\tremaining: 1.69s\n",
      "731:\tlearn: 1738.5275836\ttotal: 4.59s\tremaining: 1.68s\n",
      "732:\tlearn: 1738.0757890\ttotal: 4.59s\tremaining: 1.67s\n",
      "733:\tlearn: 1737.7345002\ttotal: 4.59s\tremaining: 1.67s\n",
      "734:\tlearn: 1737.4374003\ttotal: 4.6s\tremaining: 1.66s\n",
      "735:\tlearn: 1737.2177105\ttotal: 4.6s\tremaining: 1.65s\n",
      "736:\tlearn: 1736.4156257\ttotal: 4.6s\tremaining: 1.64s\n",
      "737:\tlearn: 1736.1640052\ttotal: 4.61s\tremaining: 1.64s\n",
      "738:\tlearn: 1735.9525272\ttotal: 4.61s\tremaining: 1.63s\n",
      "739:\tlearn: 1735.6056472\ttotal: 4.62s\tremaining: 1.62s\n",
      "740:\tlearn: 1735.2267238\ttotal: 4.62s\tremaining: 1.61s\n",
      "741:\tlearn: 1734.6451665\ttotal: 4.62s\tremaining: 1.61s\n",
      "742:\tlearn: 1733.2623370\ttotal: 4.63s\tremaining: 1.6s\n",
      "743:\tlearn: 1733.1002022\ttotal: 4.63s\tremaining: 1.59s\n",
      "744:\tlearn: 1732.8630672\ttotal: 4.63s\tremaining: 1.59s\n",
      "745:\tlearn: 1732.4470163\ttotal: 4.64s\tremaining: 1.58s\n",
      "746:\tlearn: 1731.7098932\ttotal: 4.64s\tremaining: 1.57s\n",
      "747:\tlearn: 1730.8967906\ttotal: 4.64s\tremaining: 1.56s\n",
      "748:\tlearn: 1729.9070240\ttotal: 4.65s\tremaining: 1.56s\n",
      "749:\tlearn: 1729.5511398\ttotal: 4.65s\tremaining: 1.55s\n",
      "750:\tlearn: 1728.9792212\ttotal: 4.65s\tremaining: 1.54s\n",
      "751:\tlearn: 1728.3095654\ttotal: 4.66s\tremaining: 1.53s\n",
      "752:\tlearn: 1727.6440525\ttotal: 4.66s\tremaining: 1.53s\n",
      "753:\tlearn: 1727.0861581\ttotal: 4.66s\tremaining: 1.52s\n",
      "754:\tlearn: 1726.8103727\ttotal: 4.67s\tremaining: 1.51s\n",
      "755:\tlearn: 1726.1914512\ttotal: 4.67s\tremaining: 1.51s\n",
      "756:\tlearn: 1725.8438182\ttotal: 4.67s\tremaining: 1.5s\n",
      "757:\tlearn: 1724.8997112\ttotal: 4.67s\tremaining: 1.49s\n",
      "758:\tlearn: 1723.3635834\ttotal: 4.68s\tremaining: 1.49s\n",
      "759:\tlearn: 1722.4849024\ttotal: 4.68s\tremaining: 1.48s\n",
      "760:\tlearn: 1721.6517456\ttotal: 4.69s\tremaining: 1.47s\n",
      "761:\tlearn: 1721.2715480\ttotal: 4.69s\tremaining: 1.47s\n",
      "762:\tlearn: 1720.7256097\ttotal: 4.7s\tremaining: 1.46s\n",
      "763:\tlearn: 1720.4824625\ttotal: 4.7s\tremaining: 1.45s\n",
      "764:\tlearn: 1719.5636822\ttotal: 4.71s\tremaining: 1.45s\n",
      "765:\tlearn: 1719.0328336\ttotal: 4.71s\tremaining: 1.44s\n",
      "766:\tlearn: 1718.3678153\ttotal: 4.72s\tremaining: 1.43s\n",
      "767:\tlearn: 1717.5441397\ttotal: 4.72s\tremaining: 1.43s\n",
      "768:\tlearn: 1717.1981862\ttotal: 4.73s\tremaining: 1.42s\n",
      "769:\tlearn: 1716.8499336\ttotal: 4.73s\tremaining: 1.41s\n",
      "770:\tlearn: 1716.5240122\ttotal: 4.74s\tremaining: 1.41s\n",
      "771:\tlearn: 1715.9377572\ttotal: 4.74s\tremaining: 1.4s\n",
      "772:\tlearn: 1715.4602427\ttotal: 4.75s\tremaining: 1.39s\n",
      "773:\tlearn: 1714.7641014\ttotal: 4.75s\tremaining: 1.39s\n",
      "774:\tlearn: 1714.4907685\ttotal: 4.76s\tremaining: 1.38s\n",
      "775:\tlearn: 1714.0818315\ttotal: 4.76s\tremaining: 1.37s\n",
      "776:\tlearn: 1713.8484553\ttotal: 4.77s\tremaining: 1.37s\n",
      "777:\tlearn: 1713.3497221\ttotal: 4.78s\tremaining: 1.36s\n",
      "778:\tlearn: 1712.2432637\ttotal: 4.78s\tremaining: 1.36s\n",
      "779:\tlearn: 1711.3321203\ttotal: 4.79s\tremaining: 1.35s\n",
      "780:\tlearn: 1710.9907492\ttotal: 4.79s\tremaining: 1.34s\n",
      "781:\tlearn: 1710.6702253\ttotal: 4.8s\tremaining: 1.34s\n",
      "782:\tlearn: 1709.9142739\ttotal: 4.8s\tremaining: 1.33s\n",
      "783:\tlearn: 1709.8352094\ttotal: 4.8s\tremaining: 1.32s\n",
      "784:\tlearn: 1709.4104005\ttotal: 4.81s\tremaining: 1.32s\n",
      "785:\tlearn: 1708.9186856\ttotal: 4.81s\tremaining: 1.31s\n",
      "786:\tlearn: 1708.1312447\ttotal: 4.81s\tremaining: 1.3s\n",
      "787:\tlearn: 1707.8489866\ttotal: 4.82s\tremaining: 1.3s\n",
      "788:\tlearn: 1707.1043636\ttotal: 4.82s\tremaining: 1.29s\n",
      "789:\tlearn: 1706.5331297\ttotal: 4.83s\tremaining: 1.28s\n",
      "790:\tlearn: 1705.8735490\ttotal: 4.83s\tremaining: 1.28s\n",
      "791:\tlearn: 1705.4875806\ttotal: 4.83s\tremaining: 1.27s\n",
      "792:\tlearn: 1704.9996097\ttotal: 4.84s\tremaining: 1.26s\n",
      "793:\tlearn: 1704.6459134\ttotal: 4.84s\tremaining: 1.26s\n",
      "794:\tlearn: 1704.3891153\ttotal: 4.84s\tremaining: 1.25s\n",
      "795:\tlearn: 1704.0262124\ttotal: 4.85s\tremaining: 1.24s\n",
      "796:\tlearn: 1703.6807538\ttotal: 4.86s\tremaining: 1.24s\n",
      "797:\tlearn: 1702.9056798\ttotal: 4.86s\tremaining: 1.23s\n",
      "798:\tlearn: 1702.6734632\ttotal: 4.87s\tremaining: 1.23s\n",
      "799:\tlearn: 1702.1876975\ttotal: 4.88s\tremaining: 1.22s\n",
      "800:\tlearn: 1701.9647211\ttotal: 4.88s\tremaining: 1.21s\n",
      "801:\tlearn: 1700.9260251\ttotal: 4.9s\tremaining: 1.21s\n",
      "802:\tlearn: 1700.1113675\ttotal: 4.91s\tremaining: 1.2s\n",
      "803:\tlearn: 1699.7367575\ttotal: 4.91s\tremaining: 1.2s\n",
      "804:\tlearn: 1699.3297313\ttotal: 4.91s\tremaining: 1.19s\n",
      "805:\tlearn: 1698.8162821\ttotal: 4.92s\tremaining: 1.18s\n",
      "806:\tlearn: 1698.3608743\ttotal: 4.92s\tremaining: 1.18s\n",
      "807:\tlearn: 1698.0469435\ttotal: 4.93s\tremaining: 1.17s\n",
      "808:\tlearn: 1697.2309613\ttotal: 4.96s\tremaining: 1.17s\n",
      "809:\tlearn: 1696.4580196\ttotal: 4.96s\tremaining: 1.16s\n",
      "810:\tlearn: 1695.9685840\ttotal: 4.96s\tremaining: 1.16s\n",
      "811:\tlearn: 1694.8775857\ttotal: 4.97s\tremaining: 1.15s\n",
      "812:\tlearn: 1694.6645398\ttotal: 4.98s\tremaining: 1.14s\n",
      "813:\tlearn: 1693.8925263\ttotal: 4.98s\tremaining: 1.14s\n",
      "814:\tlearn: 1693.4431791\ttotal: 5s\tremaining: 1.13s\n",
      "815:\tlearn: 1693.1932729\ttotal: 5s\tremaining: 1.13s\n",
      "816:\tlearn: 1692.9756002\ttotal: 5.01s\tremaining: 1.12s\n",
      "817:\tlearn: 1692.7323030\ttotal: 5.01s\tremaining: 1.11s\n",
      "818:\tlearn: 1692.2944337\ttotal: 5.02s\tremaining: 1.11s\n",
      "819:\tlearn: 1689.9153980\ttotal: 5.02s\tremaining: 1.1s\n",
      "820:\tlearn: 1688.5578224\ttotal: 5.04s\tremaining: 1.1s\n",
      "821:\tlearn: 1688.1830395\ttotal: 5.04s\tremaining: 1.09s\n",
      "822:\tlearn: 1687.1613098\ttotal: 5.05s\tremaining: 1.08s\n",
      "823:\tlearn: 1686.8118788\ttotal: 5.05s\tremaining: 1.08s\n",
      "824:\tlearn: 1686.4820555\ttotal: 5.05s\tremaining: 1.07s\n",
      "825:\tlearn: 1686.0266226\ttotal: 5.06s\tremaining: 1.06s\n",
      "826:\tlearn: 1685.3900626\ttotal: 5.06s\tremaining: 1.06s\n",
      "827:\tlearn: 1685.1443719\ttotal: 5.07s\tremaining: 1.05s\n",
      "828:\tlearn: 1684.6460480\ttotal: 5.07s\tremaining: 1.05s\n",
      "829:\tlearn: 1684.2023746\ttotal: 5.08s\tremaining: 1.04s\n",
      "830:\tlearn: 1683.7648765\ttotal: 5.08s\tremaining: 1.03s\n",
      "831:\tlearn: 1682.7352810\ttotal: 5.09s\tremaining: 1.03s\n",
      "832:\tlearn: 1679.8846795\ttotal: 5.1s\tremaining: 1.02s\n",
      "833:\tlearn: 1679.4392159\ttotal: 5.1s\tremaining: 1.01s\n",
      "834:\tlearn: 1679.0072068\ttotal: 5.11s\tremaining: 1.01s\n",
      "835:\tlearn: 1678.0910505\ttotal: 5.12s\tremaining: 1s\n",
      "836:\tlearn: 1677.6828827\ttotal: 5.13s\tremaining: 998ms\n",
      "837:\tlearn: 1677.5730820\ttotal: 5.13s\tremaining: 992ms\n",
      "838:\tlearn: 1677.0337231\ttotal: 5.13s\tremaining: 985ms\n",
      "839:\tlearn: 1676.7701084\ttotal: 5.14s\tremaining: 979ms\n",
      "840:\tlearn: 1676.3728980\ttotal: 5.14s\tremaining: 973ms\n",
      "841:\tlearn: 1675.9496275\ttotal: 5.15s\tremaining: 966ms\n",
      "842:\tlearn: 1675.5659257\ttotal: 5.15s\tremaining: 959ms\n",
      "843:\tlearn: 1674.2500074\ttotal: 5.16s\tremaining: 953ms\n",
      "844:\tlearn: 1673.9131889\ttotal: 5.16s\tremaining: 946ms\n",
      "845:\tlearn: 1673.3365106\ttotal: 5.16s\tremaining: 940ms\n",
      "846:\tlearn: 1672.7359644\ttotal: 5.17s\tremaining: 934ms\n",
      "847:\tlearn: 1672.5287217\ttotal: 5.17s\tremaining: 927ms\n",
      "848:\tlearn: 1672.2251565\ttotal: 5.18s\tremaining: 921ms\n",
      "849:\tlearn: 1671.8428289\ttotal: 5.18s\tremaining: 914ms\n",
      "850:\tlearn: 1671.4879097\ttotal: 5.18s\tremaining: 908ms\n",
      "851:\tlearn: 1671.3191746\ttotal: 5.19s\tremaining: 901ms\n",
      "852:\tlearn: 1670.8312059\ttotal: 5.19s\tremaining: 895ms\n",
      "853:\tlearn: 1670.4123045\ttotal: 5.2s\tremaining: 889ms\n",
      "854:\tlearn: 1670.1770416\ttotal: 5.21s\tremaining: 883ms\n",
      "855:\tlearn: 1669.8807147\ttotal: 5.21s\tremaining: 877ms\n",
      "856:\tlearn: 1668.8376142\ttotal: 5.22s\tremaining: 871ms\n",
      "857:\tlearn: 1668.4628894\ttotal: 5.22s\tremaining: 864ms\n",
      "858:\tlearn: 1668.0956554\ttotal: 5.23s\tremaining: 858ms\n",
      "859:\tlearn: 1667.8496831\ttotal: 5.23s\tremaining: 852ms\n",
      "860:\tlearn: 1667.4963765\ttotal: 5.24s\tremaining: 846ms\n",
      "861:\tlearn: 1667.1891733\ttotal: 5.24s\tremaining: 839ms\n",
      "862:\tlearn: 1666.4465652\ttotal: 5.25s\tremaining: 833ms\n",
      "863:\tlearn: 1666.1068221\ttotal: 5.25s\tremaining: 827ms\n",
      "864:\tlearn: 1665.7969769\ttotal: 5.26s\tremaining: 821ms\n",
      "865:\tlearn: 1665.4444370\ttotal: 5.26s\tremaining: 814ms\n",
      "866:\tlearn: 1665.3036643\ttotal: 5.27s\tremaining: 808ms\n",
      "867:\tlearn: 1664.8990474\ttotal: 5.28s\tremaining: 802ms\n",
      "868:\tlearn: 1664.3755636\ttotal: 5.28s\tremaining: 796ms\n",
      "869:\tlearn: 1664.0479590\ttotal: 5.29s\tremaining: 790ms\n",
      "870:\tlearn: 1663.4709656\ttotal: 5.29s\tremaining: 784ms\n",
      "871:\tlearn: 1663.0176156\ttotal: 5.3s\tremaining: 778ms\n",
      "872:\tlearn: 1662.3155541\ttotal: 5.31s\tremaining: 772ms\n",
      "873:\tlearn: 1661.7800203\ttotal: 5.31s\tremaining: 766ms\n",
      "874:\tlearn: 1661.4645542\ttotal: 5.31s\tremaining: 759ms\n",
      "875:\tlearn: 1660.7138254\ttotal: 5.32s\tremaining: 753ms\n",
      "876:\tlearn: 1660.3980637\ttotal: 5.32s\tremaining: 747ms\n",
      "877:\tlearn: 1659.9719000\ttotal: 5.33s\tremaining: 740ms\n",
      "878:\tlearn: 1659.3670482\ttotal: 5.33s\tremaining: 734ms\n",
      "879:\tlearn: 1658.6971395\ttotal: 5.33s\tremaining: 727ms\n",
      "880:\tlearn: 1658.4319214\ttotal: 5.33s\tremaining: 721ms\n",
      "881:\tlearn: 1658.1239605\ttotal: 5.34s\tremaining: 714ms\n",
      "882:\tlearn: 1657.8090374\ttotal: 5.34s\tremaining: 708ms\n",
      "883:\tlearn: 1657.4062163\ttotal: 5.34s\tremaining: 701ms\n",
      "884:\tlearn: 1657.0074472\ttotal: 5.35s\tremaining: 695ms\n",
      "885:\tlearn: 1655.8197870\ttotal: 5.35s\tremaining: 689ms\n",
      "886:\tlearn: 1655.5664687\ttotal: 5.35s\tremaining: 682ms\n",
      "887:\tlearn: 1655.1807196\ttotal: 5.36s\tremaining: 676ms\n",
      "888:\tlearn: 1654.9834280\ttotal: 5.36s\tremaining: 670ms\n",
      "889:\tlearn: 1654.6835173\ttotal: 5.37s\tremaining: 664ms\n",
      "890:\tlearn: 1654.1375759\ttotal: 5.37s\tremaining: 657ms\n",
      "891:\tlearn: 1653.7975108\ttotal: 5.38s\tremaining: 651ms\n",
      "892:\tlearn: 1653.2874604\ttotal: 5.39s\tremaining: 646ms\n",
      "893:\tlearn: 1650.6045252\ttotal: 5.4s\tremaining: 640ms\n",
      "894:\tlearn: 1650.3034101\ttotal: 5.4s\tremaining: 634ms\n",
      "895:\tlearn: 1649.7975617\ttotal: 5.41s\tremaining: 628ms\n",
      "896:\tlearn: 1647.9919145\ttotal: 5.41s\tremaining: 621ms\n",
      "897:\tlearn: 1647.6040351\ttotal: 5.42s\tremaining: 615ms\n",
      "898:\tlearn: 1647.2920216\ttotal: 5.42s\tremaining: 609ms\n",
      "899:\tlearn: 1646.1975178\ttotal: 5.42s\tremaining: 603ms\n",
      "900:\tlearn: 1645.8186561\ttotal: 5.43s\tremaining: 597ms\n",
      "901:\tlearn: 1645.1041977\ttotal: 5.43s\tremaining: 590ms\n",
      "902:\tlearn: 1644.8107291\ttotal: 5.44s\tremaining: 584ms\n",
      "903:\tlearn: 1644.5096844\ttotal: 5.44s\tremaining: 578ms\n",
      "904:\tlearn: 1644.2192977\ttotal: 5.45s\tremaining: 572ms\n",
      "905:\tlearn: 1643.2429177\ttotal: 5.46s\tremaining: 567ms\n",
      "906:\tlearn: 1642.9623956\ttotal: 5.47s\tremaining: 561ms\n",
      "907:\tlearn: 1642.5385384\ttotal: 5.47s\tremaining: 554ms\n",
      "908:\tlearn: 1642.0861820\ttotal: 5.47s\tremaining: 548ms\n",
      "909:\tlearn: 1641.1362466\ttotal: 5.48s\tremaining: 542ms\n",
      "910:\tlearn: 1639.5786016\ttotal: 5.49s\tremaining: 536ms\n",
      "911:\tlearn: 1639.2310126\ttotal: 5.5s\tremaining: 530ms\n",
      "912:\tlearn: 1638.5644758\ttotal: 5.5s\tremaining: 524ms\n",
      "913:\tlearn: 1638.4531431\ttotal: 5.5s\tremaining: 518ms\n",
      "914:\tlearn: 1638.1920837\ttotal: 5.51s\tremaining: 512ms\n",
      "915:\tlearn: 1637.9395449\ttotal: 5.51s\tremaining: 506ms\n",
      "916:\tlearn: 1637.5456145\ttotal: 5.52s\tremaining: 500ms\n",
      "917:\tlearn: 1637.0279162\ttotal: 5.52s\tremaining: 493ms\n",
      "918:\tlearn: 1636.6243592\ttotal: 5.53s\tremaining: 487ms\n",
      "919:\tlearn: 1636.5255008\ttotal: 5.54s\tremaining: 481ms\n",
      "920:\tlearn: 1635.8328961\ttotal: 5.54s\tremaining: 475ms\n",
      "921:\tlearn: 1635.4742197\ttotal: 5.54s\tremaining: 469ms\n",
      "922:\tlearn: 1635.3544744\ttotal: 5.55s\tremaining: 463ms\n",
      "923:\tlearn: 1634.2418028\ttotal: 5.55s\tremaining: 457ms\n",
      "924:\tlearn: 1633.8668616\ttotal: 5.56s\tremaining: 451ms\n",
      "925:\tlearn: 1633.5087662\ttotal: 5.56s\tremaining: 445ms\n",
      "926:\tlearn: 1633.2036997\ttotal: 5.57s\tremaining: 439ms\n",
      "927:\tlearn: 1633.0942808\ttotal: 5.57s\tremaining: 432ms\n",
      "928:\tlearn: 1633.0031488\ttotal: 5.58s\tremaining: 426ms\n",
      "929:\tlearn: 1632.8379152\ttotal: 5.58s\tremaining: 420ms\n",
      "930:\tlearn: 1632.2204843\ttotal: 5.59s\tremaining: 414ms\n",
      "931:\tlearn: 1631.8570796\ttotal: 5.59s\tremaining: 408ms\n",
      "932:\tlearn: 1631.0950159\ttotal: 5.6s\tremaining: 402ms\n",
      "933:\tlearn: 1630.8199964\ttotal: 5.61s\tremaining: 396ms\n",
      "934:\tlearn: 1630.6400871\ttotal: 5.61s\tremaining: 390ms\n",
      "935:\tlearn: 1630.4172087\ttotal: 5.62s\tremaining: 384ms\n",
      "936:\tlearn: 1629.3918656\ttotal: 5.62s\tremaining: 378ms\n",
      "937:\tlearn: 1629.3037340\ttotal: 5.63s\tremaining: 372ms\n",
      "938:\tlearn: 1628.9402699\ttotal: 5.63s\tremaining: 366ms\n",
      "939:\tlearn: 1628.6953517\ttotal: 5.64s\tremaining: 360ms\n",
      "940:\tlearn: 1628.4851067\ttotal: 5.64s\tremaining: 354ms\n",
      "941:\tlearn: 1627.7469713\ttotal: 5.64s\tremaining: 348ms\n",
      "942:\tlearn: 1626.5318361\ttotal: 5.65s\tremaining: 342ms\n",
      "943:\tlearn: 1626.3060491\ttotal: 5.65s\tremaining: 335ms\n",
      "944:\tlearn: 1626.0866227\ttotal: 5.66s\tremaining: 329ms\n",
      "945:\tlearn: 1625.0280087\ttotal: 5.66s\tremaining: 323ms\n",
      "946:\tlearn: 1624.4331906\ttotal: 5.67s\tremaining: 317ms\n",
      "947:\tlearn: 1624.0835788\ttotal: 5.67s\tremaining: 311ms\n",
      "948:\tlearn: 1623.3115087\ttotal: 5.68s\tremaining: 305ms\n",
      "949:\tlearn: 1623.0321412\ttotal: 5.68s\tremaining: 299ms\n",
      "950:\tlearn: 1622.9053860\ttotal: 5.69s\tremaining: 293ms\n",
      "951:\tlearn: 1622.8072127\ttotal: 5.69s\tremaining: 287ms\n",
      "952:\tlearn: 1621.8124232\ttotal: 5.7s\tremaining: 281ms\n",
      "953:\tlearn: 1620.9967261\ttotal: 5.7s\tremaining: 275ms\n",
      "954:\tlearn: 1620.8795371\ttotal: 5.71s\tremaining: 269ms\n",
      "955:\tlearn: 1620.6907514\ttotal: 5.71s\tremaining: 263ms\n",
      "956:\tlearn: 1620.3067217\ttotal: 5.73s\tremaining: 257ms\n",
      "957:\tlearn: 1620.1126133\ttotal: 5.73s\tremaining: 251ms\n",
      "958:\tlearn: 1619.0210271\ttotal: 5.74s\tremaining: 246ms\n",
      "959:\tlearn: 1618.5112394\ttotal: 5.75s\tremaining: 240ms\n",
      "960:\tlearn: 1618.2741863\ttotal: 5.75s\tremaining: 233ms\n",
      "961:\tlearn: 1618.0385614\ttotal: 5.76s\tremaining: 227ms\n",
      "962:\tlearn: 1617.6913471\ttotal: 5.76s\tremaining: 221ms\n",
      "963:\tlearn: 1617.3537353\ttotal: 5.77s\tremaining: 215ms\n",
      "964:\tlearn: 1617.0381921\ttotal: 5.77s\tremaining: 209ms\n",
      "965:\tlearn: 1616.3326208\ttotal: 5.78s\tremaining: 203ms\n",
      "966:\tlearn: 1615.8634760\ttotal: 5.78s\tremaining: 197ms\n",
      "967:\tlearn: 1615.2266995\ttotal: 5.79s\tremaining: 191ms\n",
      "968:\tlearn: 1614.8334583\ttotal: 5.79s\tremaining: 185ms\n",
      "969:\tlearn: 1614.0003287\ttotal: 5.8s\tremaining: 179ms\n",
      "970:\tlearn: 1613.3437252\ttotal: 5.8s\tremaining: 173ms\n",
      "971:\tlearn: 1612.6072277\ttotal: 5.81s\tremaining: 167ms\n",
      "972:\tlearn: 1612.0379563\ttotal: 5.82s\tremaining: 161ms\n",
      "973:\tlearn: 1611.9517098\ttotal: 5.82s\tremaining: 155ms\n",
      "974:\tlearn: 1611.6278948\ttotal: 5.83s\tremaining: 149ms\n",
      "975:\tlearn: 1610.5110338\ttotal: 5.83s\tremaining: 143ms\n",
      "976:\tlearn: 1609.5274833\ttotal: 5.84s\tremaining: 137ms\n",
      "977:\tlearn: 1608.6578116\ttotal: 5.84s\tremaining: 131ms\n",
      "978:\tlearn: 1608.2647268\ttotal: 5.87s\tremaining: 126ms\n",
      "979:\tlearn: 1608.0355385\ttotal: 5.88s\tremaining: 120ms\n",
      "980:\tlearn: 1607.8080748\ttotal: 5.89s\tremaining: 114ms\n",
      "981:\tlearn: 1606.6754569\ttotal: 5.9s\tremaining: 108ms\n",
      "982:\tlearn: 1606.5505921\ttotal: 5.91s\tremaining: 102ms\n",
      "983:\tlearn: 1606.4160718\ttotal: 5.91s\tremaining: 96.1ms\n",
      "984:\tlearn: 1606.0871830\ttotal: 5.93s\tremaining: 90.3ms\n",
      "985:\tlearn: 1605.8702906\ttotal: 5.94s\tremaining: 84.3ms\n",
      "986:\tlearn: 1605.7218365\ttotal: 5.94s\tremaining: 78.3ms\n",
      "987:\tlearn: 1605.2971808\ttotal: 5.95s\tremaining: 72.3ms\n",
      "988:\tlearn: 1605.0765446\ttotal: 5.96s\tremaining: 66.2ms\n",
      "989:\tlearn: 1604.6702152\ttotal: 5.96s\tremaining: 60.2ms\n",
      "990:\tlearn: 1604.5486294\ttotal: 5.97s\tremaining: 54.2ms\n",
      "991:\tlearn: 1604.3433442\ttotal: 5.97s\tremaining: 48.2ms\n",
      "992:\tlearn: 1603.8265544\ttotal: 5.98s\tremaining: 42.2ms\n",
      "993:\tlearn: 1603.3887948\ttotal: 5.98s\tremaining: 36.1ms\n",
      "994:\tlearn: 1603.1497489\ttotal: 5.99s\tremaining: 30.1ms\n",
      "995:\tlearn: 1602.8993595\ttotal: 6s\tremaining: 24.1ms\n",
      "996:\tlearn: 1601.8323778\ttotal: 6.01s\tremaining: 18.1ms\n",
      "997:\tlearn: 1601.5666676\ttotal: 6.01s\tremaining: 12.1ms\n",
      "998:\tlearn: 1600.7547818\ttotal: 6.02s\tremaining: 6.02ms\n",
      "999:\tlearn: 1600.4018760\ttotal: 6.02s\tremaining: 0us\n"
     ]
    },
    {
     "data": {
      "text/plain": [
       "0.24196825704469488"
      ]
     },
     "execution_count": 47,
     "metadata": {},
     "output_type": "execute_result"
    }
   ],
   "source": [
    "cat= CatBoostRegressor()\n",
    "cat.fit(X_train, y_train)\n",
    "y_pred = cat.predict(X_test)\n",
    "mape(y_test, y_pred)"
   ]
  },
  {
   "cell_type": "code",
   "execution_count": 48,
   "metadata": {},
   "outputs": [
    {
     "data": {
      "text/plain": [
       "<seaborn.axisgrid.FacetGrid at 0x1842017a8b0>"
      ]
     },
     "execution_count": 48,
     "metadata": {},
     "output_type": "execute_result"
    },
    {
     "data": {
      "image/png": "[encoded data removed]",
      "text/plain": [
       "<Figure size 360x360 with 1 Axes>"
      ]
     },
     "metadata": {
      "needs_background": "light"
     },
     "output_type": "display_data"
    }
   ],
   "source": [
    "sns.displot(residuals)"
   ]
  },
  {
   "cell_type": "code",
   "execution_count": 49,
   "metadata": {},
   "outputs": [
    {
     "data": {
      "text/plain": [
       "0.8707318304606855"
      ]
     },
     "execution_count": 49,
     "metadata": {},
     "output_type": "execute_result"
    }
   ],
   "source": [
    "r2_score(y_test, y_pred)"
   ]
  }
 ],
 "metadata": {
  "kernelspec": {
   "display_name": "Python 3",
   "language": "python",
   "name": "python3"
  },
  "language_info": {
   "codemirror_mode": {
    "name": "ipython",
    "version": 3
   },
   "file_extension": ".py",
   "mimetype": "text/x-python",
   "name": "python",
   "nbconvert_exporter": "python",
   "pygments_lexer": "ipython3",
   "version": "3.8.5"
  }
 },
 "nbformat": 4,
 "nbformat_minor": 4
}
